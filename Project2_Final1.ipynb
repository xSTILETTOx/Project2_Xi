{
 "cells": [
  {
   "cell_type": "code",
   "execution_count": 1,
   "id": "ee924895",
   "metadata": {},
   "outputs": [],
   "source": [
    "import pandas as pd\n",
    "import statsmodels\n",
    "import statsmodels.api as sm\n",
    "from statsmodels.formula.api import ols\n",
    "import statsmodels.formula.api as smf\n",
    "import statsmodels.stats.api as sms\n",
    "from matplotlib import pyplot as plt\n",
    "%matplotlib inline\n",
    "import matplotlib\n",
    "matplotlib.rcParams[\"figure.figsize\"] = (20,10)\n",
    "import seaborn as sns\n",
    "import numpy as np\n",
    "import scipy.stats as stats\n",
    "\n",
    "import warnings\n",
    "warnings.simplefilter(action='ignore', category=FutureWarning)"
   ]
  },
  {
   "cell_type": "code",
   "execution_count": 2,
   "id": "ec4fead0",
   "metadata": {},
   "outputs": [],
   "source": [
    "# importing dataset\n",
    "df = pd.read_csv('Project2_xi\\data\\kc_house_data.csv')"
   ]
  },
  {
   "cell_type": "code",
   "execution_count": 3,
   "id": "18005d1a",
   "metadata": {
    "scrolled": true
   },
   "outputs": [
    {
     "data": {
      "text/markdown": [
       "# Column Names and descriptions for Kings County Data Set\n",
       "* **id** - unique identified for a house\n",
       "* **dateDate** - house was sold\n",
       "* **pricePrice** -  is prediction target\n",
       "* **bedroomsNumber** -  of Bedrooms/House\n",
       "* **bathroomsNumber** -  of bathrooms/bedrooms\n",
       "* **sqft_livingsquare** -  footage of the home\n",
       "* **sqft_lotsquare** -  footage of the lot\n",
       "* **floorsTotal** -  floors (levels) in house\n",
       "* **waterfront** - House which has a view to a waterfront\n",
       "* **view** - Has been viewed\n",
       "* **condition** - How good the condition is ( Overall )\n",
       "* **grade** - overall grade given to the housing unit, based on King County grading system\n",
       "* **sqft_above** - square footage of house apart from basement\n",
       "* **sqft_basement** - square footage of the basement\n",
       "* **yr_built** - Built Year\n",
       "* **yr_renovated** - Year when house was renovated\n",
       "* **zipcode** - zip\n",
       "* **lat** - Latitude coordinate\n",
       "* **long** - Longitude coordinate\n",
       "* **sqft_living15** - The square footage of interior housing living space for the nearest 15 neighbors\n",
       "* **sqft_lot15** - The square footage of the land lots of the nearest 15 neighbors\n"
      ],
      "text/plain": [
       "<IPython.core.display.Markdown object>"
      ]
     },
     "metadata": {},
     "output_type": "display_data"
    }
   ],
   "source": [
    "from IPython.display import Markdown, display\n",
    "\n",
    "display(Markdown(r\"C:\\Users\\61405\\Documents\\Project2\\Project2_Xi\\data\\column_names.md\"))"
   ]
  },
  {
   "cell_type": "markdown",
   "id": "db0c8e85",
   "metadata": {},
   "source": [
    "<h3>Exploring the raw data.</h3>"
   ]
  },
  {
   "cell_type": "code",
   "execution_count": 4,
   "id": "323b6b80",
   "metadata": {},
   "outputs": [
    {
     "data": {
      "text/html": [
       "<div>\n",
       "<style scoped>\n",
       "    .dataframe tbody tr th:only-of-type {\n",
       "        vertical-align: middle;\n",
       "    }\n",
       "\n",
       "    .dataframe tbody tr th {\n",
       "        vertical-align: top;\n",
       "    }\n",
       "\n",
       "    .dataframe thead th {\n",
       "        text-align: right;\n",
       "    }\n",
       "</style>\n",
       "<table border=\"1\" class=\"dataframe\">\n",
       "  <thead>\n",
       "    <tr style=\"text-align: right;\">\n",
       "      <th></th>\n",
       "      <th>id</th>\n",
       "      <th>date</th>\n",
       "      <th>price</th>\n",
       "      <th>bedrooms</th>\n",
       "      <th>bathrooms</th>\n",
       "      <th>sqft_living</th>\n",
       "      <th>sqft_lot</th>\n",
       "      <th>floors</th>\n",
       "      <th>waterfront</th>\n",
       "      <th>view</th>\n",
       "      <th>...</th>\n",
       "      <th>grade</th>\n",
       "      <th>sqft_above</th>\n",
       "      <th>sqft_basement</th>\n",
       "      <th>yr_built</th>\n",
       "      <th>yr_renovated</th>\n",
       "      <th>zipcode</th>\n",
       "      <th>lat</th>\n",
       "      <th>long</th>\n",
       "      <th>sqft_living15</th>\n",
       "      <th>sqft_lot15</th>\n",
       "    </tr>\n",
       "  </thead>\n",
       "  <tbody>\n",
       "    <tr>\n",
       "      <th>0</th>\n",
       "      <td>7129300520</td>\n",
       "      <td>10/13/2014</td>\n",
       "      <td>221900.0</td>\n",
       "      <td>3</td>\n",
       "      <td>1.00</td>\n",
       "      <td>1180</td>\n",
       "      <td>5650</td>\n",
       "      <td>1.0</td>\n",
       "      <td>NaN</td>\n",
       "      <td>0.0</td>\n",
       "      <td>...</td>\n",
       "      <td>7</td>\n",
       "      <td>1180</td>\n",
       "      <td>0.0</td>\n",
       "      <td>1955</td>\n",
       "      <td>0.0</td>\n",
       "      <td>98178</td>\n",
       "      <td>47.5112</td>\n",
       "      <td>-122.257</td>\n",
       "      <td>1340</td>\n",
       "      <td>5650</td>\n",
       "    </tr>\n",
       "    <tr>\n",
       "      <th>1</th>\n",
       "      <td>6414100192</td>\n",
       "      <td>12/9/2014</td>\n",
       "      <td>538000.0</td>\n",
       "      <td>3</td>\n",
       "      <td>2.25</td>\n",
       "      <td>2570</td>\n",
       "      <td>7242</td>\n",
       "      <td>2.0</td>\n",
       "      <td>0.0</td>\n",
       "      <td>0.0</td>\n",
       "      <td>...</td>\n",
       "      <td>7</td>\n",
       "      <td>2170</td>\n",
       "      <td>400.0</td>\n",
       "      <td>1951</td>\n",
       "      <td>1991.0</td>\n",
       "      <td>98125</td>\n",
       "      <td>47.7210</td>\n",
       "      <td>-122.319</td>\n",
       "      <td>1690</td>\n",
       "      <td>7639</td>\n",
       "    </tr>\n",
       "    <tr>\n",
       "      <th>2</th>\n",
       "      <td>5631500400</td>\n",
       "      <td>2/25/2015</td>\n",
       "      <td>180000.0</td>\n",
       "      <td>2</td>\n",
       "      <td>1.00</td>\n",
       "      <td>770</td>\n",
       "      <td>10000</td>\n",
       "      <td>1.0</td>\n",
       "      <td>0.0</td>\n",
       "      <td>0.0</td>\n",
       "      <td>...</td>\n",
       "      <td>6</td>\n",
       "      <td>770</td>\n",
       "      <td>0.0</td>\n",
       "      <td>1933</td>\n",
       "      <td>NaN</td>\n",
       "      <td>98028</td>\n",
       "      <td>47.7379</td>\n",
       "      <td>-122.233</td>\n",
       "      <td>2720</td>\n",
       "      <td>8062</td>\n",
       "    </tr>\n",
       "    <tr>\n",
       "      <th>3</th>\n",
       "      <td>2487200875</td>\n",
       "      <td>12/9/2014</td>\n",
       "      <td>604000.0</td>\n",
       "      <td>4</td>\n",
       "      <td>3.00</td>\n",
       "      <td>1960</td>\n",
       "      <td>5000</td>\n",
       "      <td>1.0</td>\n",
       "      <td>0.0</td>\n",
       "      <td>0.0</td>\n",
       "      <td>...</td>\n",
       "      <td>7</td>\n",
       "      <td>1050</td>\n",
       "      <td>910.0</td>\n",
       "      <td>1965</td>\n",
       "      <td>0.0</td>\n",
       "      <td>98136</td>\n",
       "      <td>47.5208</td>\n",
       "      <td>-122.393</td>\n",
       "      <td>1360</td>\n",
       "      <td>5000</td>\n",
       "    </tr>\n",
       "    <tr>\n",
       "      <th>4</th>\n",
       "      <td>1954400510</td>\n",
       "      <td>2/18/2015</td>\n",
       "      <td>510000.0</td>\n",
       "      <td>3</td>\n",
       "      <td>2.00</td>\n",
       "      <td>1680</td>\n",
       "      <td>8080</td>\n",
       "      <td>1.0</td>\n",
       "      <td>0.0</td>\n",
       "      <td>0.0</td>\n",
       "      <td>...</td>\n",
       "      <td>8</td>\n",
       "      <td>1680</td>\n",
       "      <td>0.0</td>\n",
       "      <td>1987</td>\n",
       "      <td>0.0</td>\n",
       "      <td>98074</td>\n",
       "      <td>47.6168</td>\n",
       "      <td>-122.045</td>\n",
       "      <td>1800</td>\n",
       "      <td>7503</td>\n",
       "    </tr>\n",
       "  </tbody>\n",
       "</table>\n",
       "<p>5 rows × 21 columns</p>\n",
       "</div>"
      ],
      "text/plain": [
       "           id        date     price  bedrooms  bathrooms  sqft_living  \\\n",
       "0  7129300520  10/13/2014  221900.0         3       1.00         1180   \n",
       "1  6414100192   12/9/2014  538000.0         3       2.25         2570   \n",
       "2  5631500400   2/25/2015  180000.0         2       1.00          770   \n",
       "3  2487200875   12/9/2014  604000.0         4       3.00         1960   \n",
       "4  1954400510   2/18/2015  510000.0         3       2.00         1680   \n",
       "\n",
       "   sqft_lot  floors  waterfront  view  ...  grade  sqft_above  sqft_basement  \\\n",
       "0      5650     1.0         NaN   0.0  ...      7        1180            0.0   \n",
       "1      7242     2.0         0.0   0.0  ...      7        2170          400.0   \n",
       "2     10000     1.0         0.0   0.0  ...      6         770            0.0   \n",
       "3      5000     1.0         0.0   0.0  ...      7        1050          910.0   \n",
       "4      8080     1.0         0.0   0.0  ...      8        1680            0.0   \n",
       "\n",
       "  yr_built  yr_renovated  zipcode      lat     long  sqft_living15  sqft_lot15  \n",
       "0     1955           0.0    98178  47.5112 -122.257           1340        5650  \n",
       "1     1951        1991.0    98125  47.7210 -122.319           1690        7639  \n",
       "2     1933           NaN    98028  47.7379 -122.233           2720        8062  \n",
       "3     1965           0.0    98136  47.5208 -122.393           1360        5000  \n",
       "4     1987           0.0    98074  47.6168 -122.045           1800        7503  \n",
       "\n",
       "[5 rows x 21 columns]"
      ]
     },
     "execution_count": 4,
     "metadata": {},
     "output_type": "execute_result"
    }
   ],
   "source": [
    "df.head()"
   ]
  },
  {
   "cell_type": "code",
   "execution_count": 5,
   "id": "219d8c6e",
   "metadata": {},
   "outputs": [
    {
     "data": {
      "text/plain": [
       "(21597, 21)"
      ]
     },
     "execution_count": 5,
     "metadata": {},
     "output_type": "execute_result"
    }
   ],
   "source": [
    "df.shape"
   ]
  },
  {
   "cell_type": "code",
   "execution_count": 6,
   "id": "16f04888",
   "metadata": {},
   "outputs": [
    {
     "data": {
      "text/plain": [
       "id                  0\n",
       "date                0\n",
       "price               0\n",
       "bedrooms            0\n",
       "bathrooms           0\n",
       "sqft_living         0\n",
       "sqft_lot            0\n",
       "floors              0\n",
       "waterfront       2376\n",
       "view               63\n",
       "condition           0\n",
       "grade               0\n",
       "sqft_above          0\n",
       "sqft_basement       0\n",
       "yr_built            0\n",
       "yr_renovated     3842\n",
       "zipcode             0\n",
       "lat                 0\n",
       "long                0\n",
       "sqft_living15       0\n",
       "sqft_lot15          0\n",
       "dtype: int64"
      ]
     },
     "execution_count": 6,
     "metadata": {},
     "output_type": "execute_result"
    }
   ],
   "source": [
    "# Checking for missing values\n",
    "df.isnull().sum()"
   ]
  },
  {
   "cell_type": "code",
   "execution_count": 7,
   "id": "3247d3f5",
   "metadata": {
    "scrolled": true
   },
   "outputs": [
    {
     "name": "stdout",
     "output_type": "stream",
     "text": [
      "<class 'pandas.core.frame.DataFrame'>\n",
      "RangeIndex: 21597 entries, 0 to 21596\n",
      "Data columns (total 21 columns):\n",
      " #   Column         Non-Null Count  Dtype  \n",
      "---  ------         --------------  -----  \n",
      " 0   id             21597 non-null  int64  \n",
      " 1   date           21597 non-null  object \n",
      " 2   price          21597 non-null  float64\n",
      " 3   bedrooms       21597 non-null  int64  \n",
      " 4   bathrooms      21597 non-null  float64\n",
      " 5   sqft_living    21597 non-null  int64  \n",
      " 6   sqft_lot       21597 non-null  int64  \n",
      " 7   floors         21597 non-null  float64\n",
      " 8   waterfront     19221 non-null  float64\n",
      " 9   view           21534 non-null  float64\n",
      " 10  condition      21597 non-null  int64  \n",
      " 11  grade          21597 non-null  int64  \n",
      " 12  sqft_above     21597 non-null  int64  \n",
      " 13  sqft_basement  21597 non-null  object \n",
      " 14  yr_built       21597 non-null  int64  \n",
      " 15  yr_renovated   17755 non-null  float64\n",
      " 16  zipcode        21597 non-null  int64  \n",
      " 17  lat            21597 non-null  float64\n",
      " 18  long           21597 non-null  float64\n",
      " 19  sqft_living15  21597 non-null  int64  \n",
      " 20  sqft_lot15     21597 non-null  int64  \n",
      "dtypes: float64(8), int64(11), object(2)\n",
      "memory usage: 3.5+ MB\n"
     ]
    }
   ],
   "source": [
    "df.info()"
   ]
  },
  {
   "cell_type": "markdown",
   "id": "0aceb0f4",
   "metadata": {},
   "source": [
    "<h3>Removing variables that aren't useful to the stakeholder problem. Taking out sq_ft above and below as it's included in living.</h3>"
   ]
  },
  {
   "cell_type": "code",
   "execution_count": 8,
   "id": "aa7afc3e",
   "metadata": {},
   "outputs": [],
   "source": [
    "df = df.drop(['id','lat','long','view','sqft_above','sqft_basement','yr_renovated','zipcode','date','waterfront','yr_built'], axis=1)"
   ]
  },
  {
   "cell_type": "code",
   "execution_count": null,
   "id": "dc4c4e03",
   "metadata": {
    "scrolled": true
   },
   "outputs": [],
   "source": [
    "sns.pairplot(df)"
   ]
  },
  {
   "cell_type": "markdown",
   "id": "4750f8aa",
   "metadata": {},
   "source": [
    "<h5> Initial raw analysis show price ~ bathrooms + sqft_living + sqft_living15 have a good correlation </h5><br>"
   ]
  },
  {
   "cell_type": "code",
   "execution_count": 9,
   "id": "35ee88e2",
   "metadata": {
    "scrolled": true
   },
   "outputs": [
    {
     "data": {
      "text/html": [
       "<div>\n",
       "<style scoped>\n",
       "    .dataframe tbody tr th:only-of-type {\n",
       "        vertical-align: middle;\n",
       "    }\n",
       "\n",
       "    .dataframe tbody tr th {\n",
       "        vertical-align: top;\n",
       "    }\n",
       "\n",
       "    .dataframe thead th {\n",
       "        text-align: right;\n",
       "    }\n",
       "</style>\n",
       "<table border=\"1\" class=\"dataframe\">\n",
       "  <thead>\n",
       "    <tr style=\"text-align: right;\">\n",
       "      <th></th>\n",
       "      <th>price</th>\n",
       "      <th>bedrooms</th>\n",
       "      <th>bathrooms</th>\n",
       "      <th>sqft_living</th>\n",
       "      <th>sqft_lot</th>\n",
       "      <th>floors</th>\n",
       "      <th>condition</th>\n",
       "      <th>grade</th>\n",
       "      <th>sqft_living15</th>\n",
       "      <th>sqft_lot15</th>\n",
       "    </tr>\n",
       "  </thead>\n",
       "  <tbody>\n",
       "    <tr>\n",
       "      <th>count</th>\n",
       "      <td>2.159700e+04</td>\n",
       "      <td>21597.000000</td>\n",
       "      <td>21597.000000</td>\n",
       "      <td>21597.000000</td>\n",
       "      <td>2.159700e+04</td>\n",
       "      <td>21597.000000</td>\n",
       "      <td>21597.000000</td>\n",
       "      <td>21597.000000</td>\n",
       "      <td>21597.000000</td>\n",
       "      <td>21597.000000</td>\n",
       "    </tr>\n",
       "    <tr>\n",
       "      <th>mean</th>\n",
       "      <td>5.402966e+05</td>\n",
       "      <td>3.373200</td>\n",
       "      <td>2.115826</td>\n",
       "      <td>2080.321850</td>\n",
       "      <td>1.509941e+04</td>\n",
       "      <td>1.494096</td>\n",
       "      <td>3.409825</td>\n",
       "      <td>7.657915</td>\n",
       "      <td>1986.620318</td>\n",
       "      <td>12758.283512</td>\n",
       "    </tr>\n",
       "    <tr>\n",
       "      <th>std</th>\n",
       "      <td>3.673681e+05</td>\n",
       "      <td>0.926299</td>\n",
       "      <td>0.768984</td>\n",
       "      <td>918.106125</td>\n",
       "      <td>4.141264e+04</td>\n",
       "      <td>0.539683</td>\n",
       "      <td>0.650546</td>\n",
       "      <td>1.173200</td>\n",
       "      <td>685.230472</td>\n",
       "      <td>27274.441950</td>\n",
       "    </tr>\n",
       "    <tr>\n",
       "      <th>min</th>\n",
       "      <td>7.800000e+04</td>\n",
       "      <td>1.000000</td>\n",
       "      <td>0.500000</td>\n",
       "      <td>370.000000</td>\n",
       "      <td>5.200000e+02</td>\n",
       "      <td>1.000000</td>\n",
       "      <td>1.000000</td>\n",
       "      <td>3.000000</td>\n",
       "      <td>399.000000</td>\n",
       "      <td>651.000000</td>\n",
       "    </tr>\n",
       "    <tr>\n",
       "      <th>25%</th>\n",
       "      <td>3.220000e+05</td>\n",
       "      <td>3.000000</td>\n",
       "      <td>1.750000</td>\n",
       "      <td>1430.000000</td>\n",
       "      <td>5.040000e+03</td>\n",
       "      <td>1.000000</td>\n",
       "      <td>3.000000</td>\n",
       "      <td>7.000000</td>\n",
       "      <td>1490.000000</td>\n",
       "      <td>5100.000000</td>\n",
       "    </tr>\n",
       "    <tr>\n",
       "      <th>50%</th>\n",
       "      <td>4.500000e+05</td>\n",
       "      <td>3.000000</td>\n",
       "      <td>2.250000</td>\n",
       "      <td>1910.000000</td>\n",
       "      <td>7.618000e+03</td>\n",
       "      <td>1.500000</td>\n",
       "      <td>3.000000</td>\n",
       "      <td>7.000000</td>\n",
       "      <td>1840.000000</td>\n",
       "      <td>7620.000000</td>\n",
       "    </tr>\n",
       "    <tr>\n",
       "      <th>75%</th>\n",
       "      <td>6.450000e+05</td>\n",
       "      <td>4.000000</td>\n",
       "      <td>2.500000</td>\n",
       "      <td>2550.000000</td>\n",
       "      <td>1.068500e+04</td>\n",
       "      <td>2.000000</td>\n",
       "      <td>4.000000</td>\n",
       "      <td>8.000000</td>\n",
       "      <td>2360.000000</td>\n",
       "      <td>10083.000000</td>\n",
       "    </tr>\n",
       "    <tr>\n",
       "      <th>max</th>\n",
       "      <td>7.700000e+06</td>\n",
       "      <td>33.000000</td>\n",
       "      <td>8.000000</td>\n",
       "      <td>13540.000000</td>\n",
       "      <td>1.651359e+06</td>\n",
       "      <td>3.500000</td>\n",
       "      <td>5.000000</td>\n",
       "      <td>13.000000</td>\n",
       "      <td>6210.000000</td>\n",
       "      <td>871200.000000</td>\n",
       "    </tr>\n",
       "  </tbody>\n",
       "</table>\n",
       "</div>"
      ],
      "text/plain": [
       "              price      bedrooms     bathrooms   sqft_living      sqft_lot  \\\n",
       "count  2.159700e+04  21597.000000  21597.000000  21597.000000  2.159700e+04   \n",
       "mean   5.402966e+05      3.373200      2.115826   2080.321850  1.509941e+04   \n",
       "std    3.673681e+05      0.926299      0.768984    918.106125  4.141264e+04   \n",
       "min    7.800000e+04      1.000000      0.500000    370.000000  5.200000e+02   \n",
       "25%    3.220000e+05      3.000000      1.750000   1430.000000  5.040000e+03   \n",
       "50%    4.500000e+05      3.000000      2.250000   1910.000000  7.618000e+03   \n",
       "75%    6.450000e+05      4.000000      2.500000   2550.000000  1.068500e+04   \n",
       "max    7.700000e+06     33.000000      8.000000  13540.000000  1.651359e+06   \n",
       "\n",
       "             floors     condition         grade  sqft_living15     sqft_lot15  \n",
       "count  21597.000000  21597.000000  21597.000000   21597.000000   21597.000000  \n",
       "mean       1.494096      3.409825      7.657915    1986.620318   12758.283512  \n",
       "std        0.539683      0.650546      1.173200     685.230472   27274.441950  \n",
       "min        1.000000      1.000000      3.000000     399.000000     651.000000  \n",
       "25%        1.000000      3.000000      7.000000    1490.000000    5100.000000  \n",
       "50%        1.500000      3.000000      7.000000    1840.000000    7620.000000  \n",
       "75%        2.000000      4.000000      8.000000    2360.000000   10083.000000  \n",
       "max        3.500000      5.000000     13.000000    6210.000000  871200.000000  "
      ]
     },
     "execution_count": 9,
     "metadata": {},
     "output_type": "execute_result"
    }
   ],
   "source": [
    "df.describe()"
   ]
  },
  {
   "cell_type": "code",
   "execution_count": 10,
   "id": "5a60783e",
   "metadata": {
    "scrolled": true
   },
   "outputs": [
    {
     "name": "stderr",
     "output_type": "stream",
     "text": [
      "C:\\Users\\61405\\AppData\\Local\\Temp\\ipykernel_28212\\4054481015.py:2: UserWarning: \n",
      "\n",
      "`distplot` is a deprecated function and will be removed in seaborn v0.14.0.\n",
      "\n",
      "Please adapt your code to use either `displot` (a figure-level function with\n",
      "similar flexibility) or `histplot` (an axes-level function for histograms).\n",
      "\n",
      "For a guide to updating your code to use the new functions, please see\n",
      "https://gist.github.com/mwaskom/de44147ed2974457ad6372750bbe5751\n",
      "\n",
      "  sns.distplot(df['price'], ax=axs[0])\n"
     ]
    },
    {
     "data": {
      "image/png": "[encoded data removed]",
      "text/plain": [
       "<Figure size 1500x500 with 3 Axes>"
      ]
     },
     "metadata": {},
     "output_type": "display_data"
    }
   ],
   "source": [
    "fig, axs = plt.subplots(1,2, figsize=[15,5])\n",
    "sns.distplot(df['price'], ax=axs[0])\n",
    "sns.heatmap(df.corr(), ax=axs[1], annot=True)\n",
    "fig.tight_layout()"
   ]
  },
  {
   "cell_type": "markdown",
   "id": "e289dd28",
   "metadata": {},
   "source": [
    "<h3>Modeling the raw data</h3>"
   ]
  },
  {
   "cell_type": "code",
   "execution_count": 11,
   "id": "48373154",
   "metadata": {},
   "outputs": [],
   "source": [
    "from patsy import dmatrices\n",
    "    \n",
    "y, X = dmatrices('price ~ sqft_living + sqft_lot + bedrooms + bathrooms + floors + condition + grade + sqft_living15 + sqft_lot15', data=df, return_type='dataframe')"
   ]
  },
  {
   "cell_type": "code",
   "execution_count": 12,
   "id": "b327d8ce",
   "metadata": {},
   "outputs": [],
   "source": [
    "from sklearn.model_selection import train_test_split\n",
    "X_train, X_test, y_train, y_test = train_test_split(X, y, test_size=0.3, random_state=42)"
   ]
  },
  {
   "cell_type": "code",
   "execution_count": 13,
   "id": "84ffdf07",
   "metadata": {},
   "outputs": [],
   "source": [
    "from sklearn.linear_model import LinearRegression\n",
    "lm = LinearRegression()"
   ]
  },
  {
   "cell_type": "code",
   "execution_count": 14,
   "id": "d424c6de",
   "metadata": {
    "scrolled": true
   },
   "outputs": [
    {
     "data": {
      "text/html": [
       "<style>#sk-container-id-1 {color: black;}#sk-container-id-1 pre{padding: 0;}#sk-container-id-1 div.sk-toggleable {background-color: white;}#sk-container-id-1 label.sk-toggleable__label {cursor: pointer;display: block;width: 100%;margin-bottom: 0;padding: 0.3em;box-sizing: border-box;text-align: center;}#sk-container-id-1 label.sk-toggleable__label-arrow:before {content: \"▸\";float: left;margin-right: 0.25em;color: #696969;}#sk-container-id-1 label.sk-toggleable__label-arrow:hover:before {color: black;}#sk-container-id-1 div.sk-estimator:hover label.sk-toggleable__label-arrow:before {color: black;}#sk-container-id-1 div.sk-toggleable__content {max-height: 0;max-width: 0;overflow: hidden;text-align: left;background-color: #f0f8ff;}#sk-container-id-1 div.sk-toggleable__content pre {margin: 0.2em;color: black;border-radius: 0.25em;background-color: #f0f8ff;}#sk-container-id-1 input.sk-toggleable__control:checked~div.sk-toggleable__content {max-height: 200px;max-width: 100%;overflow: auto;}#sk-container-id-1 input.sk-toggleable__control:checked~label.sk-toggleable__label-arrow:before {content: \"▾\";}#sk-container-id-1 div.sk-estimator input.sk-toggleable__control:checked~label.sk-toggleable__label {background-color: #d4ebff;}#sk-container-id-1 div.sk-label input.sk-toggleable__control:checked~label.sk-toggleable__label {background-color: #d4ebff;}#sk-container-id-1 input.sk-hidden--visually {border: 0;clip: rect(1px 1px 1px 1px);clip: rect(1px, 1px, 1px, 1px);height: 1px;margin: -1px;overflow: hidden;padding: 0;position: absolute;width: 1px;}#sk-container-id-1 div.sk-estimator {font-family: monospace;background-color: #f0f8ff;border: 1px dotted black;border-radius: 0.25em;box-sizing: border-box;margin-bottom: 0.5em;}#sk-container-id-1 div.sk-estimator:hover {background-color: #d4ebff;}#sk-container-id-1 div.sk-parallel-item::after {content: \"\";width: 100%;border-bottom: 1px solid gray;flex-grow: 1;}#sk-container-id-1 div.sk-label:hover label.sk-toggleable__label {background-color: #d4ebff;}#sk-container-id-1 div.sk-serial::before {content: \"\";position: absolute;border-left: 1px solid gray;box-sizing: border-box;top: 0;bottom: 0;left: 50%;z-index: 0;}#sk-container-id-1 div.sk-serial {display: flex;flex-direction: column;align-items: center;background-color: white;padding-right: 0.2em;padding-left: 0.2em;position: relative;}#sk-container-id-1 div.sk-item {position: relative;z-index: 1;}#sk-container-id-1 div.sk-parallel {display: flex;align-items: stretch;justify-content: center;background-color: white;position: relative;}#sk-container-id-1 div.sk-item::before, #sk-container-id-1 div.sk-parallel-item::before {content: \"\";position: absolute;border-left: 1px solid gray;box-sizing: border-box;top: 0;bottom: 0;left: 50%;z-index: -1;}#sk-container-id-1 div.sk-parallel-item {display: flex;flex-direction: column;z-index: 1;position: relative;background-color: white;}#sk-container-id-1 div.sk-parallel-item:first-child::after {align-self: flex-end;width: 50%;}#sk-container-id-1 div.sk-parallel-item:last-child::after {align-self: flex-start;width: 50%;}#sk-container-id-1 div.sk-parallel-item:only-child::after {width: 0;}#sk-container-id-1 div.sk-dashed-wrapped {border: 1px dashed gray;margin: 0 0.4em 0.5em 0.4em;box-sizing: border-box;padding-bottom: 0.4em;background-color: white;}#sk-container-id-1 div.sk-label label {font-family: monospace;font-weight: bold;display: inline-block;line-height: 1.2em;}#sk-container-id-1 div.sk-label-container {text-align: center;}#sk-container-id-1 div.sk-container {/* jupyter's `normalize.less` sets `[hidden] { display: none; }` but bootstrap.min.css set `[hidden] { display: none !important; }` so we also need the `!important` here to be able to override the default hidden behavior on the sphinx rendered scikit-learn.org. See: https://github.com/scikit-learn/scikit-learn/issues/21755 */display: inline-block !important;position: relative;}#sk-container-id-1 div.sk-text-repr-fallback {display: none;}</style><div id=\"sk-container-id-1\" class=\"sk-top-container\"><div class=\"sk-text-repr-fallback\"><pre>LinearRegression()</pre><b>In a Jupyter environment, please rerun this cell to show the HTML representation or trust the notebook. <br />On GitHub, the HTML representation is unable to render, please try loading this page with nbviewer.org.</b></div><div class=\"sk-container\" hidden><div class=\"sk-item\"><div class=\"sk-estimator sk-toggleable\"><input class=\"sk-toggleable__control sk-hidden--visually\" id=\"sk-estimator-id-1\" type=\"checkbox\" checked><label for=\"sk-estimator-id-1\" class=\"sk-toggleable__label sk-toggleable__label-arrow\">LinearRegression</label><div class=\"sk-toggleable__content\"><pre>LinearRegression()</pre></div></div></div></div></div>"
      ],
      "text/plain": [
       "LinearRegression()"
      ]
     },
     "execution_count": 14,
     "metadata": {},
     "output_type": "execute_result"
    }
   ],
   "source": [
    "lm.fit(X_train, y_train) "
   ]
  },
  {
   "cell_type": "code",
   "execution_count": 15,
   "id": "f08e661a",
   "metadata": {
    "scrolled": true
   },
   "outputs": [
    {
     "data": {
      "text/html": [
       "<div>\n",
       "<style scoped>\n",
       "    .dataframe tbody tr th:only-of-type {\n",
       "        vertical-align: middle;\n",
       "    }\n",
       "\n",
       "    .dataframe tbody tr th {\n",
       "        vertical-align: top;\n",
       "    }\n",
       "\n",
       "    .dataframe thead th {\n",
       "        text-align: right;\n",
       "    }\n",
       "</style>\n",
       "<table border=\"1\" class=\"dataframe\">\n",
       "  <thead>\n",
       "    <tr style=\"text-align: right;\">\n",
       "      <th></th>\n",
       "      <th>coefficients</th>\n",
       "    </tr>\n",
       "  </thead>\n",
       "  <tbody>\n",
       "    <tr>\n",
       "      <th>Intercept</th>\n",
       "      <td>0.000000</td>\n",
       "    </tr>\n",
       "    <tr>\n",
       "      <th>sqft_living</th>\n",
       "      <td>210.001232</td>\n",
       "    </tr>\n",
       "    <tr>\n",
       "      <th>sqft_lot</th>\n",
       "      <td>-0.002478</td>\n",
       "    </tr>\n",
       "    <tr>\n",
       "      <th>bedrooms</th>\n",
       "      <td>-47802.875251</td>\n",
       "    </tr>\n",
       "    <tr>\n",
       "      <th>bathrooms</th>\n",
       "      <td>-5842.522507</td>\n",
       "    </tr>\n",
       "    <tr>\n",
       "      <th>floors</th>\n",
       "      <td>-23443.827843</td>\n",
       "    </tr>\n",
       "    <tr>\n",
       "      <th>condition</th>\n",
       "      <td>66969.470869</td>\n",
       "    </tr>\n",
       "    <tr>\n",
       "      <th>grade</th>\n",
       "      <td>105061.206073</td>\n",
       "    </tr>\n",
       "    <tr>\n",
       "      <th>sqft_living15</th>\n",
       "      <td>22.616416</td>\n",
       "    </tr>\n",
       "    <tr>\n",
       "      <th>sqft_lot15</th>\n",
       "      <td>-0.871868</td>\n",
       "    </tr>\n",
       "  </tbody>\n",
       "</table>\n",
       "</div>"
      ],
      "text/plain": [
       "                coefficients\n",
       "Intercept           0.000000\n",
       "sqft_living       210.001232\n",
       "sqft_lot           -0.002478\n",
       "bedrooms       -47802.875251\n",
       "bathrooms       -5842.522507\n",
       "floors         -23443.827843\n",
       "condition       66969.470869\n",
       "grade          105061.206073\n",
       "sqft_living15      22.616416\n",
       "sqft_lot15         -0.871868"
      ]
     },
     "execution_count": 15,
     "metadata": {},
     "output_type": "execute_result"
    }
   ],
   "source": [
    "cdf = pd.DataFrame(lm.coef_[0], index=X_train.columns, columns=['coefficients'])\n",
    "cdf"
   ]
  },
  {
   "cell_type": "markdown",
   "id": "9a0ba0c7",
   "metadata": {},
   "source": [
    "<h5>coefficients are quite large because the dataset hasn't been normalised and the data range for each column vary a lot. </h5><br>"
   ]
  },
  {
   "cell_type": "code",
   "execution_count": 16,
   "id": "fadb6e5e",
   "metadata": {},
   "outputs": [],
   "source": [
    "from statsmodels.regression import linear_model\n",
    "\n",
    "X_train = sm.add_constant(X_train)\n",
    "sm_ols = linear_model.OLS(y_train, X_train) \n",
    "sm_model = sm_ols.fit()"
   ]
  },
  {
   "cell_type": "code",
   "execution_count": 17,
   "id": "09f85128",
   "metadata": {},
   "outputs": [
    {
     "name": "stdout",
     "output_type": "stream",
     "text": [
      "Adjusted R-squared: 0.5646180707753438\n"
     ]
    }
   ],
   "source": [
    "# Capture the Adjusted R-squared\n",
    "adjusted_r_squared = sm_model.rsquared_adj\n",
    "print(f'Adjusted R-squared: {adjusted_r_squared}')"
   ]
  },
  {
   "cell_type": "markdown",
   "id": "704a80b4",
   "metadata": {},
   "source": [
    "<h5>This is a good Adjusted R-squared as it's between 0.5 and 0.99. This means the the variables are statistically significant</h5><br>"
   ]
  },
  {
   "cell_type": "code",
   "execution_count": 18,
   "id": "295e0c7d",
   "metadata": {
    "scrolled": true
   },
   "outputs": [
    {
     "data": {
      "text/html": [
       "<table class=\"simpletable\">\n",
       "<caption>OLS Regression Results</caption>\n",
       "<tr>\n",
       "  <th>Dep. Variable:</th>          <td>price</td>      <th>  R-squared:         </th>  <td>   0.565</td>  \n",
       "</tr>\n",
       "<tr>\n",
       "  <th>Model:</th>                   <td>OLS</td>       <th>  Adj. R-squared:    </th>  <td>   0.565</td>  \n",
       "</tr>\n",
       "<tr>\n",
       "  <th>Method:</th>             <td>Least Squares</td>  <th>  F-statistic:       </th>  <td>   2179.</td>  \n",
       "</tr>\n",
       "<tr>\n",
       "  <th>Date:</th>             <td>Tue, 05 Dec 2023</td> <th>  Prob (F-statistic):</th>   <td>  0.00</td>   \n",
       "</tr>\n",
       "<tr>\n",
       "  <th>Time:</th>                 <td>01:08:20</td>     <th>  Log-Likelihood:    </th> <td>-2.0893e+05</td>\n",
       "</tr>\n",
       "<tr>\n",
       "  <th>No. Observations:</th>      <td> 15117</td>      <th>  AIC:               </th>  <td>4.179e+05</td> \n",
       "</tr>\n",
       "<tr>\n",
       "  <th>Df Residuals:</th>          <td> 15107</td>      <th>  BIC:               </th>  <td>4.180e+05</td> \n",
       "</tr>\n",
       "<tr>\n",
       "  <th>Df Model:</th>              <td>     9</td>      <th>                     </th>      <td> </td>     \n",
       "</tr>\n",
       "<tr>\n",
       "  <th>Covariance Type:</th>      <td>nonrobust</td>    <th>                     </th>      <td> </td>     \n",
       "</tr>\n",
       "</table>\n",
       "<table class=\"simpletable\">\n",
       "<tr>\n",
       "        <td></td>           <th>coef</th>     <th>std err</th>      <th>t</th>      <th>P>|t|</th>  <th>[0.025</th>    <th>0.975]</th>  \n",
       "</tr>\n",
       "<tr>\n",
       "  <th>Intercept</th>     <td>-7.543e+05</td> <td>  2.2e+04</td> <td>  -34.330</td> <td> 0.000</td> <td>-7.97e+05</td> <td>-7.11e+05</td>\n",
       "</tr>\n",
       "<tr>\n",
       "  <th>sqft_living</th>   <td>  210.0012</td> <td>    4.783</td> <td>   43.908</td> <td> 0.000</td> <td>  200.627</td> <td>  219.376</td>\n",
       "</tr>\n",
       "<tr>\n",
       "  <th>sqft_lot</th>      <td>   -0.0025</td> <td>    0.068</td> <td>   -0.036</td> <td> 0.971</td> <td>   -0.136</td> <td>    0.131</td>\n",
       "</tr>\n",
       "<tr>\n",
       "  <th>bedrooms</th>      <td> -4.78e+04</td> <td> 2820.521</td> <td>  -16.948</td> <td> 0.000</td> <td>-5.33e+04</td> <td>-4.23e+04</td>\n",
       "</tr>\n",
       "<tr>\n",
       "  <th>bathrooms</th>     <td>-5842.5225</td> <td> 4412.609</td> <td>   -1.324</td> <td> 0.186</td> <td>-1.45e+04</td> <td> 2806.726</td>\n",
       "</tr>\n",
       "<tr>\n",
       "  <th>floors</th>        <td>-2.344e+04</td> <td> 4506.788</td> <td>   -5.202</td> <td> 0.000</td> <td>-3.23e+04</td> <td>-1.46e+04</td>\n",
       "</tr>\n",
       "<tr>\n",
       "  <th>condition</th>     <td> 6.697e+04</td> <td> 3173.612</td> <td>   21.102</td> <td> 0.000</td> <td> 6.07e+04</td> <td> 7.32e+04</td>\n",
       "</tr>\n",
       "<tr>\n",
       "  <th>grade</th>         <td> 1.051e+05</td> <td> 2985.471</td> <td>   35.191</td> <td> 0.000</td> <td> 9.92e+04</td> <td> 1.11e+05</td>\n",
       "</tr>\n",
       "<tr>\n",
       "  <th>sqft_living15</th> <td>   22.6164</td> <td>    4.746</td> <td>    4.765</td> <td> 0.000</td> <td>   13.313</td> <td>   31.920</td>\n",
       "</tr>\n",
       "<tr>\n",
       "  <th>sqft_lot15</th>    <td>   -0.8719</td> <td>    0.104</td> <td>   -8.393</td> <td> 0.000</td> <td>   -1.075</td> <td>   -0.668</td>\n",
       "</tr>\n",
       "</table>\n",
       "<table class=\"simpletable\">\n",
       "<tr>\n",
       "  <th>Omnibus:</th>       <td>10736.290</td> <th>  Durbin-Watson:     </th>  <td>   1.991</td> \n",
       "</tr>\n",
       "<tr>\n",
       "  <th>Prob(Omnibus):</th>  <td> 0.000</td>   <th>  Jarque-Bera (JB):  </th> <td>436484.091</td>\n",
       "</tr>\n",
       "<tr>\n",
       "  <th>Skew:</th>           <td> 2.937</td>   <th>  Prob(JB):          </th>  <td>    0.00</td> \n",
       "</tr>\n",
       "<tr>\n",
       "  <th>Kurtosis:</th>       <td>28.661</td>   <th>  Cond. No.          </th>  <td>5.62e+05</td> \n",
       "</tr>\n",
       "</table><br/><br/>Notes:<br/>[1] Standard Errors assume that the covariance matrix of the errors is correctly specified.<br/>[2] The condition number is large, 5.62e+05. This might indicate that there are<br/>strong multicollinearity or other numerical problems."
      ],
      "text/latex": [
       "\\begin{center}\n",
       "\\begin{tabular}{lclc}\n",
       "\\toprule\n",
       "\\textbf{Dep. Variable:}    &      price       & \\textbf{  R-squared:         } &      0.565   \\\\\n",
       "\\textbf{Model:}            &       OLS        & \\textbf{  Adj. R-squared:    } &      0.565   \\\\\n",
       "\\textbf{Method:}           &  Least Squares   & \\textbf{  F-statistic:       } &      2179.   \\\\\n",
       "\\textbf{Date:}             & Tue, 05 Dec 2023 & \\textbf{  Prob (F-statistic):} &      0.00    \\\\\n",
       "\\textbf{Time:}             &     01:08:20     & \\textbf{  Log-Likelihood:    } & -2.0893e+05  \\\\\n",
       "\\textbf{No. Observations:} &       15117      & \\textbf{  AIC:               } &  4.179e+05   \\\\\n",
       "\\textbf{Df Residuals:}     &       15107      & \\textbf{  BIC:               } &  4.180e+05   \\\\\n",
       "\\textbf{Df Model:}         &           9      & \\textbf{                     } &              \\\\\n",
       "\\textbf{Covariance Type:}  &    nonrobust     & \\textbf{                     } &              \\\\\n",
       "\\bottomrule\n",
       "\\end{tabular}\n",
       "\\begin{tabular}{lcccccc}\n",
       "                        & \\textbf{coef} & \\textbf{std err} & \\textbf{t} & \\textbf{P$> |$t$|$} & \\textbf{[0.025} & \\textbf{0.975]}  \\\\\n",
       "\\midrule\n",
       "\\textbf{Intercept}      &   -7.543e+05  &      2.2e+04     &   -34.330  &         0.000        &    -7.97e+05    &    -7.11e+05     \\\\\n",
       "\\textbf{sqft\\_living}   &     210.0012  &        4.783     &    43.908  &         0.000        &      200.627    &      219.376     \\\\\n",
       "\\textbf{sqft\\_lot}      &      -0.0025  &        0.068     &    -0.036  &         0.971        &       -0.136    &        0.131     \\\\\n",
       "\\textbf{bedrooms}       &    -4.78e+04  &     2820.521     &   -16.948  &         0.000        &    -5.33e+04    &    -4.23e+04     \\\\\n",
       "\\textbf{bathrooms}      &   -5842.5225  &     4412.609     &    -1.324  &         0.186        &    -1.45e+04    &     2806.726     \\\\\n",
       "\\textbf{floors}         &   -2.344e+04  &     4506.788     &    -5.202  &         0.000        &    -3.23e+04    &    -1.46e+04     \\\\\n",
       "\\textbf{condition}      &    6.697e+04  &     3173.612     &    21.102  &         0.000        &     6.07e+04    &     7.32e+04     \\\\\n",
       "\\textbf{grade}          &    1.051e+05  &     2985.471     &    35.191  &         0.000        &     9.92e+04    &     1.11e+05     \\\\\n",
       "\\textbf{sqft\\_living15} &      22.6164  &        4.746     &     4.765  &         0.000        &       13.313    &       31.920     \\\\\n",
       "\\textbf{sqft\\_lot15}    &      -0.8719  &        0.104     &    -8.393  &         0.000        &       -1.075    &       -0.668     \\\\\n",
       "\\bottomrule\n",
       "\\end{tabular}\n",
       "\\begin{tabular}{lclc}\n",
       "\\textbf{Omnibus:}       & 10736.290 & \\textbf{  Durbin-Watson:     } &     1.991   \\\\\n",
       "\\textbf{Prob(Omnibus):} &    0.000  & \\textbf{  Jarque-Bera (JB):  } & 436484.091  \\\\\n",
       "\\textbf{Skew:}          &    2.937  & \\textbf{  Prob(JB):          } &      0.00   \\\\\n",
       "\\textbf{Kurtosis:}      &   28.661  & \\textbf{  Cond. No.          } &  5.62e+05   \\\\\n",
       "\\bottomrule\n",
       "\\end{tabular}\n",
       "%\\caption{OLS Regression Results}\n",
       "\\end{center}\n",
       "\n",
       "Notes: \\newline\n",
       " [1] Standard Errors assume that the covariance matrix of the errors is correctly specified. \\newline\n",
       " [2] The condition number is large, 5.62e+05. This might indicate that there are \\newline\n",
       " strong multicollinearity or other numerical problems."
      ],
      "text/plain": [
       "<class 'statsmodels.iolib.summary.Summary'>\n",
       "\"\"\"\n",
       "                            OLS Regression Results                            \n",
       "==============================================================================\n",
       "Dep. Variable:                  price   R-squared:                       0.565\n",
       "Model:                            OLS   Adj. R-squared:                  0.565\n",
       "Method:                 Least Squares   F-statistic:                     2179.\n",
       "Date:                Tue, 05 Dec 2023   Prob (F-statistic):               0.00\n",
       "Time:                        01:08:20   Log-Likelihood:            -2.0893e+05\n",
       "No. Observations:               15117   AIC:                         4.179e+05\n",
       "Df Residuals:                   15107   BIC:                         4.180e+05\n",
       "Df Model:                           9                                         \n",
       "Covariance Type:            nonrobust                                         \n",
       "=================================================================================\n",
       "                    coef    std err          t      P>|t|      [0.025      0.975]\n",
       "---------------------------------------------------------------------------------\n",
       "Intercept     -7.543e+05    2.2e+04    -34.330      0.000   -7.97e+05   -7.11e+05\n",
       "sqft_living     210.0012      4.783     43.908      0.000     200.627     219.376\n",
       "sqft_lot         -0.0025      0.068     -0.036      0.971      -0.136       0.131\n",
       "bedrooms       -4.78e+04   2820.521    -16.948      0.000   -5.33e+04   -4.23e+04\n",
       "bathrooms     -5842.5225   4412.609     -1.324      0.186   -1.45e+04    2806.726\n",
       "floors        -2.344e+04   4506.788     -5.202      0.000   -3.23e+04   -1.46e+04\n",
       "condition      6.697e+04   3173.612     21.102      0.000    6.07e+04    7.32e+04\n",
       "grade          1.051e+05   2985.471     35.191      0.000    9.92e+04    1.11e+05\n",
       "sqft_living15    22.6164      4.746      4.765      0.000      13.313      31.920\n",
       "sqft_lot15       -0.8719      0.104     -8.393      0.000      -1.075      -0.668\n",
       "==============================================================================\n",
       "Omnibus:                    10736.290   Durbin-Watson:                   1.991\n",
       "Prob(Omnibus):                  0.000   Jarque-Bera (JB):           436484.091\n",
       "Skew:                           2.937   Prob(JB):                         0.00\n",
       "Kurtosis:                      28.661   Cond. No.                     5.62e+05\n",
       "==============================================================================\n",
       "\n",
       "Notes:\n",
       "[1] Standard Errors assume that the covariance matrix of the errors is correctly specified.\n",
       "[2] The condition number is large, 5.62e+05. This might indicate that there are\n",
       "strong multicollinearity or other numerical problems.\n",
       "\"\"\""
      ]
     },
     "execution_count": 18,
     "metadata": {},
     "output_type": "execute_result"
    }
   ],
   "source": [
    "sm_model.summary()"
   ]
  },
  {
   "cell_type": "markdown",
   "id": "0c05400e",
   "metadata": {},
   "source": [
    "<h5>skew shows the data is highly skewed and kurtosis shows extreme tails</h5><br>"
   ]
  },
  {
   "cell_type": "code",
   "execution_count": 19,
   "id": "07f1712f",
   "metadata": {
    "scrolled": true
   },
   "outputs": [
    {
     "data": {
      "image/png": "[encoded data removed]",
      "text/plain": [
       "<Figure size 2000x1000 with 1 Axes>"
      ]
     },
     "metadata": {},
     "output_type": "display_data"
    }
   ],
   "source": [
    "fig = sm.qqplot(sm_model.resid, line='45', fit=True)"
   ]
  },
  {
   "cell_type": "markdown",
   "id": "be20349c",
   "metadata": {},
   "source": [
    "<h5>The Q-Q plot shows that the data is skewed as it's curves away from the line </h5><br>"
   ]
  },
  {
   "cell_type": "code",
   "execution_count": 20,
   "id": "0999c19d",
   "metadata": {
    "scrolled": false
   },
   "outputs": [
    {
     "data": {
      "text/html": [
       "<div>\n",
       "<style scoped>\n",
       "    .dataframe tbody tr th:only-of-type {\n",
       "        vertical-align: middle;\n",
       "    }\n",
       "\n",
       "    .dataframe tbody tr th {\n",
       "        vertical-align: top;\n",
       "    }\n",
       "\n",
       "    .dataframe thead th {\n",
       "        text-align: right;\n",
       "    }\n",
       "</style>\n",
       "<table border=\"1\" class=\"dataframe\">\n",
       "  <thead>\n",
       "    <tr style=\"text-align: right;\">\n",
       "      <th></th>\n",
       "      <th>price</th>\n",
       "      <th>bedrooms</th>\n",
       "      <th>bathrooms</th>\n",
       "      <th>sqft_living</th>\n",
       "      <th>sqft_lot</th>\n",
       "      <th>floors</th>\n",
       "      <th>condition</th>\n",
       "      <th>grade</th>\n",
       "      <th>sqft_living15</th>\n",
       "      <th>sqft_lot15</th>\n",
       "    </tr>\n",
       "  </thead>\n",
       "  <tbody>\n",
       "    <tr>\n",
       "      <th>8748</th>\n",
       "      <td>520000.0</td>\n",
       "      <td>11</td>\n",
       "      <td>3.00</td>\n",
       "      <td>3000</td>\n",
       "      <td>4960</td>\n",
       "      <td>2.0</td>\n",
       "      <td>3</td>\n",
       "      <td>7</td>\n",
       "      <td>1420</td>\n",
       "      <td>4960</td>\n",
       "    </tr>\n",
       "    <tr>\n",
       "      <th>15856</th>\n",
       "      <td>640000.0</td>\n",
       "      <td>33</td>\n",
       "      <td>1.75</td>\n",
       "      <td>1620</td>\n",
       "      <td>6000</td>\n",
       "      <td>1.0</td>\n",
       "      <td>5</td>\n",
       "      <td>7</td>\n",
       "      <td>1330</td>\n",
       "      <td>4700</td>\n",
       "    </tr>\n",
       "  </tbody>\n",
       "</table>\n",
       "</div>"
      ],
      "text/plain": [
       "          price  bedrooms  bathrooms  sqft_living  sqft_lot  floors  \\\n",
       "8748   520000.0        11       3.00         3000      4960     2.0   \n",
       "15856  640000.0        33       1.75         1620      6000     1.0   \n",
       "\n",
       "       condition  grade  sqft_living15  sqft_lot15  \n",
       "8748           3      7           1420        4960  \n",
       "15856          5      7           1330        4700  "
      ]
     },
     "execution_count": 20,
     "metadata": {},
     "output_type": "execute_result"
    }
   ],
   "source": [
    "df[df.bedrooms>10]"
   ]
  },
  {
   "cell_type": "markdown",
   "id": "70bc9233",
   "metadata": {},
   "source": [
    "<h3>Removing data with 33 bedrooms because this outlier looks to be a mistake with not even 2 bathrooms and only 1620sqft living space.</h3>"
   ]
  },
  {
   "cell_type": "code",
   "execution_count": 21,
   "id": "bd6b21a6",
   "metadata": {},
   "outputs": [],
   "source": [
    "# create a Boolean mask to remove 33 bedrooms\n",
    "mask = df['bedrooms'] == 33\n",
    "\n",
    "# select all rows except the ones that contain '33'\n",
    "df = df[~mask]"
   ]
  },
  {
   "cell_type": "code",
   "execution_count": 22,
   "id": "49134998",
   "metadata": {
    "scrolled": true
   },
   "outputs": [
    {
     "data": {
      "text/html": [
       "<div>\n",
       "<style scoped>\n",
       "    .dataframe tbody tr th:only-of-type {\n",
       "        vertical-align: middle;\n",
       "    }\n",
       "\n",
       "    .dataframe tbody tr th {\n",
       "        vertical-align: top;\n",
       "    }\n",
       "\n",
       "    .dataframe thead th {\n",
       "        text-align: right;\n",
       "    }\n",
       "</style>\n",
       "<table border=\"1\" class=\"dataframe\">\n",
       "  <thead>\n",
       "    <tr style=\"text-align: right;\">\n",
       "      <th></th>\n",
       "      <th>price</th>\n",
       "      <th>bedrooms</th>\n",
       "      <th>bathrooms</th>\n",
       "      <th>sqft_living</th>\n",
       "      <th>sqft_lot</th>\n",
       "      <th>floors</th>\n",
       "      <th>condition</th>\n",
       "      <th>grade</th>\n",
       "      <th>sqft_living15</th>\n",
       "      <th>sqft_lot15</th>\n",
       "    </tr>\n",
       "  </thead>\n",
       "  <tbody>\n",
       "    <tr>\n",
       "      <th>8748</th>\n",
       "      <td>520000.0</td>\n",
       "      <td>11</td>\n",
       "      <td>3.0</td>\n",
       "      <td>3000</td>\n",
       "      <td>4960</td>\n",
       "      <td>2.0</td>\n",
       "      <td>3</td>\n",
       "      <td>7</td>\n",
       "      <td>1420</td>\n",
       "      <td>4960</td>\n",
       "    </tr>\n",
       "  </tbody>\n",
       "</table>\n",
       "</div>"
      ],
      "text/plain": [
       "         price  bedrooms  bathrooms  sqft_living  sqft_lot  floors  condition  \\\n",
       "8748  520000.0        11        3.0         3000      4960     2.0          3   \n",
       "\n",
       "      grade  sqft_living15  sqft_lot15  \n",
       "8748      7           1420        4960  "
      ]
     },
     "execution_count": 22,
     "metadata": {},
     "output_type": "execute_result"
    }
   ],
   "source": [
    "df[df.bedrooms>10]"
   ]
  },
  {
   "cell_type": "markdown",
   "id": "cd3884ed",
   "metadata": {},
   "source": [
    "<h3>IQR Capping and flooring with the price for scaling to STD Normal distribution.</h3>\n",
    "<br><h5>I'm choosing this method so that it keeps the data but at a less extreme value </h5><br>"
   ]
  },
  {
   "cell_type": "code",
   "execution_count": 23,
   "id": "874a925c",
   "metadata": {},
   "outputs": [],
   "source": [
    "df_STD = df"
   ]
  },
  {
   "cell_type": "code",
   "execution_count": 24,
   "id": "e9629a8e",
   "metadata": {
    "scrolled": true
   },
   "outputs": [
    {
     "name": "stdout",
     "output_type": "stream",
     "text": [
      "245000.0\n",
      "887000.0\n",
      "price Old skew: 4.023328880340934\n"
     ]
    }
   ],
   "source": [
    "print(df_STD['price'].quantile(0.10))\n",
    "print(df_STD['price'].quantile(0.90))\n",
    "print(\"price Old skew:\", df_STD['price'].skew())"
   ]
  },
  {
   "cell_type": "code",
   "execution_count": 25,
   "id": "e13aab40",
   "metadata": {},
   "outputs": [
    {
     "name": "stdout",
     "output_type": "stream",
     "text": [
      "price New skew: 0.5730683577569643\n"
     ]
    }
   ],
   "source": [
    "df_STD[\"price\"] = np.where(df_STD[\"price\"] <245000.0, 245000.0,df_STD['price'])\n",
    "df_STD[\"price\"] = np.where(df_STD[\"price\"] >887000.0, 887000.0,df_STD['price'])\n",
    "print(\"price New skew:\",df_STD['price'].skew())\n"
   ]
  },
  {
   "cell_type": "code",
   "execution_count": 27,
   "id": "f8dc09ad",
   "metadata": {
    "scrolled": true
   },
   "outputs": [
    {
     "name": "stderr",
     "output_type": "stream",
     "text": [
      "C:\\Users\\61405\\AppData\\Local\\Temp\\ipykernel_28212\\2811164626.py:2: UserWarning: \n",
      "\n",
      "`distplot` is a deprecated function and will be removed in seaborn v0.14.0.\n",
      "\n",
      "Please adapt your code to use either `displot` (a figure-level function with\n",
      "similar flexibility) or `histplot` (an axes-level function for histograms).\n",
      "\n",
      "For a guide to updating your code to use the new functions, please see\n",
      "https://gist.github.com/mwaskom/de44147ed2974457ad6372750bbe5751\n",
      "\n",
      "  sns.distplot(df_STD['price'], ax=axs[0], bins = 10)\n"
     ]
    },
    {
     "data": {
      "image/png": "[encoded data removed]",
      "text/plain": [
       "<Figure size 1500x500 with 3 Axes>"
      ]
     },
     "metadata": {},
     "output_type": "display_data"
    }
   ],
   "source": [
    "fig, axs = plt.subplots(1,2, figsize=[15,5])\n",
    "sns.distplot(df_STD['price'], ax=axs[0], bins = 10)\n",
    "sns.heatmap(df.corr(), ax=axs[1], annot=True)\n",
    "fig.tight_layout()"
   ]
  },
  {
   "cell_type": "markdown",
   "id": "81901c57",
   "metadata": {},
   "source": [
    "<h3>Removing lower correlated variables.</h3>\n",
    "<br><h5>Except bedrooms because bedrooms are important to the desirability of a \n",
    "house even if this data is showing that it has low correlation to price.</h5><br>"
   ]
  },
  {
   "cell_type": "code",
   "execution_count": 28,
   "id": "b30c7106",
   "metadata": {},
   "outputs": [],
   "source": [
    "df = df.drop(['sqft_lot','floors','condition','sqft_lot15'], axis=1)"
   ]
  },
  {
   "cell_type": "code",
   "execution_count": 29,
   "id": "63ad85a3",
   "metadata": {},
   "outputs": [
    {
     "data": {
      "text/plain": [
       "Index(['price', 'bedrooms', 'bathrooms', 'sqft_living', 'grade',\n",
       "       'sqft_living15'],\n",
       "      dtype='object')"
      ]
     },
     "execution_count": 29,
     "metadata": {},
     "output_type": "execute_result"
    }
   ],
   "source": [
    "df.columns"
   ]
  },
  {
   "cell_type": "markdown",
   "id": "74e64e12",
   "metadata": {},
   "source": [
    "<h3>Train/test split</h3>"
   ]
  },
  {
   "cell_type": "code",
   "execution_count": 30,
   "id": "57bf4d96",
   "metadata": {},
   "outputs": [
    {
     "data": {
      "text/plain": [
       "Index(['price', 'bedrooms', 'bathrooms', 'sqft_living', 'sqft_lot', 'floors',\n",
       "       'condition', 'grade', 'sqft_living15', 'sqft_lot15'],\n",
       "      dtype='object')"
      ]
     },
     "execution_count": 30,
     "metadata": {},
     "output_type": "execute_result"
    }
   ],
   "source": [
    "df_STD.columns"
   ]
  },
  {
   "cell_type": "code",
   "execution_count": 31,
   "id": "237007d2",
   "metadata": {},
   "outputs": [],
   "source": [
    "df_STD = df_STD.drop(['sqft_lot','floors','condition','sqft_lot15'], axis=1)"
   ]
  },
  {
   "cell_type": "code",
   "execution_count": 32,
   "id": "0b6be9f5",
   "metadata": {},
   "outputs": [
    {
     "data": {
      "text/plain": [
       "Index(['price', 'bedrooms', 'bathrooms', 'sqft_living', 'grade',\n",
       "       'sqft_living15'],\n",
       "      dtype='object')"
      ]
     },
     "execution_count": 32,
     "metadata": {},
     "output_type": "execute_result"
    }
   ],
   "source": [
    "df_STD.columns"
   ]
  },
  {
   "cell_type": "code",
   "execution_count": 33,
   "id": "8475ff57",
   "metadata": {},
   "outputs": [],
   "source": [
    "X2 = df_STD[['bedrooms', 'bathrooms', 'sqft_living','grade', 'sqft_living15']]\n",
    "\n",
    "y2 = df_STD[['price']]"
   ]
  },
  {
   "cell_type": "code",
   "execution_count": 34,
   "id": "f1f3ca8d",
   "metadata": {},
   "outputs": [],
   "source": [
    "X2_train, X2_test, y2_train, y2_test = train_test_split(X2, y2, test_size=0.3, random_state=42)"
   ]
  },
  {
   "cell_type": "code",
   "execution_count": 35,
   "id": "a65fc93b",
   "metadata": {},
   "outputs": [
    {
     "data": {
      "text/plain": [
       "15117"
      ]
     },
     "execution_count": 35,
     "metadata": {},
     "output_type": "execute_result"
    }
   ],
   "source": [
    "len(X2_train)"
   ]
  },
  {
   "cell_type": "code",
   "execution_count": 36,
   "id": "2b2b0586",
   "metadata": {},
   "outputs": [
    {
     "data": {
      "text/plain": [
       "6479"
      ]
     },
     "execution_count": 36,
     "metadata": {},
     "output_type": "execute_result"
    }
   ],
   "source": [
    "len(X2_test)"
   ]
  },
  {
   "cell_type": "code",
   "execution_count": 37,
   "id": "6f6afa4b",
   "metadata": {},
   "outputs": [
    {
     "data": {
      "text/html": [
       "<div>\n",
       "<style scoped>\n",
       "    .dataframe tbody tr th:only-of-type {\n",
       "        vertical-align: middle;\n",
       "    }\n",
       "\n",
       "    .dataframe tbody tr th {\n",
       "        vertical-align: top;\n",
       "    }\n",
       "\n",
       "    .dataframe thead th {\n",
       "        text-align: right;\n",
       "    }\n",
       "</style>\n",
       "<table border=\"1\" class=\"dataframe\">\n",
       "  <thead>\n",
       "    <tr style=\"text-align: right;\">\n",
       "      <th></th>\n",
       "      <th>bedrooms</th>\n",
       "      <th>bathrooms</th>\n",
       "      <th>sqft_living</th>\n",
       "      <th>grade</th>\n",
       "      <th>sqft_living15</th>\n",
       "    </tr>\n",
       "  </thead>\n",
       "  <tbody>\n",
       "    <tr>\n",
       "      <th>3686</th>\n",
       "      <td>3</td>\n",
       "      <td>0.75</td>\n",
       "      <td>850</td>\n",
       "      <td>6</td>\n",
       "      <td>850</td>\n",
       "    </tr>\n",
       "    <tr>\n",
       "      <th>10247</th>\n",
       "      <td>3</td>\n",
       "      <td>1.00</td>\n",
       "      <td>1510</td>\n",
       "      <td>6</td>\n",
       "      <td>1510</td>\n",
       "    </tr>\n",
       "    <tr>\n",
       "      <th>4037</th>\n",
       "      <td>4</td>\n",
       "      <td>2.25</td>\n",
       "      <td>1790</td>\n",
       "      <td>7</td>\n",
       "      <td>2060</td>\n",
       "    </tr>\n",
       "    <tr>\n",
       "      <th>3437</th>\n",
       "      <td>2</td>\n",
       "      <td>1.50</td>\n",
       "      <td>1140</td>\n",
       "      <td>7</td>\n",
       "      <td>1500</td>\n",
       "    </tr>\n",
       "    <tr>\n",
       "      <th>19291</th>\n",
       "      <td>3</td>\n",
       "      <td>1.00</td>\n",
       "      <td>1500</td>\n",
       "      <td>7</td>\n",
       "      <td>1640</td>\n",
       "    </tr>\n",
       "  </tbody>\n",
       "</table>\n",
       "</div>"
      ],
      "text/plain": [
       "       bedrooms  bathrooms  sqft_living  grade  sqft_living15\n",
       "3686          3       0.75          850      6            850\n",
       "10247         3       1.00         1510      6           1510\n",
       "4037          4       2.25         1790      7           2060\n",
       "3437          2       1.50         1140      7           1500\n",
       "19291         3       1.00         1500      7           1640"
      ]
     },
     "execution_count": 37,
     "metadata": {},
     "output_type": "execute_result"
    }
   ],
   "source": [
    "X2_test.head()"
   ]
  },
  {
   "cell_type": "code",
   "execution_count": 38,
   "id": "e1254854",
   "metadata": {},
   "outputs": [
    {
     "data": {
      "text/html": [
       "<style>#sk-container-id-2 {color: black;}#sk-container-id-2 pre{padding: 0;}#sk-container-id-2 div.sk-toggleable {background-color: white;}#sk-container-id-2 label.sk-toggleable__label {cursor: pointer;display: block;width: 100%;margin-bottom: 0;padding: 0.3em;box-sizing: border-box;text-align: center;}#sk-container-id-2 label.sk-toggleable__label-arrow:before {content: \"▸\";float: left;margin-right: 0.25em;color: #696969;}#sk-container-id-2 label.sk-toggleable__label-arrow:hover:before {color: black;}#sk-container-id-2 div.sk-estimator:hover label.sk-toggleable__label-arrow:before {color: black;}#sk-container-id-2 div.sk-toggleable__content {max-height: 0;max-width: 0;overflow: hidden;text-align: left;background-color: #f0f8ff;}#sk-container-id-2 div.sk-toggleable__content pre {margin: 0.2em;color: black;border-radius: 0.25em;background-color: #f0f8ff;}#sk-container-id-2 input.sk-toggleable__control:checked~div.sk-toggleable__content {max-height: 200px;max-width: 100%;overflow: auto;}#sk-container-id-2 input.sk-toggleable__control:checked~label.sk-toggleable__label-arrow:before {content: \"▾\";}#sk-container-id-2 div.sk-estimator input.sk-toggleable__control:checked~label.sk-toggleable__label {background-color: #d4ebff;}#sk-container-id-2 div.sk-label input.sk-toggleable__control:checked~label.sk-toggleable__label {background-color: #d4ebff;}#sk-container-id-2 input.sk-hidden--visually {border: 0;clip: rect(1px 1px 1px 1px);clip: rect(1px, 1px, 1px, 1px);height: 1px;margin: -1px;overflow: hidden;padding: 0;position: absolute;width: 1px;}#sk-container-id-2 div.sk-estimator {font-family: monospace;background-color: #f0f8ff;border: 1px dotted black;border-radius: 0.25em;box-sizing: border-box;margin-bottom: 0.5em;}#sk-container-id-2 div.sk-estimator:hover {background-color: #d4ebff;}#sk-container-id-2 div.sk-parallel-item::after {content: \"\";width: 100%;border-bottom: 1px solid gray;flex-grow: 1;}#sk-container-id-2 div.sk-label:hover label.sk-toggleable__label {background-color: #d4ebff;}#sk-container-id-2 div.sk-serial::before {content: \"\";position: absolute;border-left: 1px solid gray;box-sizing: border-box;top: 0;bottom: 0;left: 50%;z-index: 0;}#sk-container-id-2 div.sk-serial {display: flex;flex-direction: column;align-items: center;background-color: white;padding-right: 0.2em;padding-left: 0.2em;position: relative;}#sk-container-id-2 div.sk-item {position: relative;z-index: 1;}#sk-container-id-2 div.sk-parallel {display: flex;align-items: stretch;justify-content: center;background-color: white;position: relative;}#sk-container-id-2 div.sk-item::before, #sk-container-id-2 div.sk-parallel-item::before {content: \"\";position: absolute;border-left: 1px solid gray;box-sizing: border-box;top: 0;bottom: 0;left: 50%;z-index: -1;}#sk-container-id-2 div.sk-parallel-item {display: flex;flex-direction: column;z-index: 1;position: relative;background-color: white;}#sk-container-id-2 div.sk-parallel-item:first-child::after {align-self: flex-end;width: 50%;}#sk-container-id-2 div.sk-parallel-item:last-child::after {align-self: flex-start;width: 50%;}#sk-container-id-2 div.sk-parallel-item:only-child::after {width: 0;}#sk-container-id-2 div.sk-dashed-wrapped {border: 1px dashed gray;margin: 0 0.4em 0.5em 0.4em;box-sizing: border-box;padding-bottom: 0.4em;background-color: white;}#sk-container-id-2 div.sk-label label {font-family: monospace;font-weight: bold;display: inline-block;line-height: 1.2em;}#sk-container-id-2 div.sk-label-container {text-align: center;}#sk-container-id-2 div.sk-container {/* jupyter's `normalize.less` sets `[hidden] { display: none; }` but bootstrap.min.css set `[hidden] { display: none !important; }` so we also need the `!important` here to be able to override the default hidden behavior on the sphinx rendered scikit-learn.org. See: https://github.com/scikit-learn/scikit-learn/issues/21755 */display: inline-block !important;position: relative;}#sk-container-id-2 div.sk-text-repr-fallback {display: none;}</style><div id=\"sk-container-id-2\" class=\"sk-top-container\"><div class=\"sk-text-repr-fallback\"><pre>LinearRegression()</pre><b>In a Jupyter environment, please rerun this cell to show the HTML representation or trust the notebook. <br />On GitHub, the HTML representation is unable to render, please try loading this page with nbviewer.org.</b></div><div class=\"sk-container\" hidden><div class=\"sk-item\"><div class=\"sk-estimator sk-toggleable\"><input class=\"sk-toggleable__control sk-hidden--visually\" id=\"sk-estimator-id-2\" type=\"checkbox\" checked><label for=\"sk-estimator-id-2\" class=\"sk-toggleable__label sk-toggleable__label-arrow\">LinearRegression</label><div class=\"sk-toggleable__content\"><pre>LinearRegression()</pre></div></div></div></div></div>"
      ],
      "text/plain": [
       "LinearRegression()"
      ]
     },
     "execution_count": 38,
     "metadata": {},
     "output_type": "execute_result"
    }
   ],
   "source": [
    "lm.fit(X2_train, y2_train) "
   ]
  },
  {
   "cell_type": "code",
   "execution_count": 39,
   "id": "871e5c53",
   "metadata": {},
   "outputs": [
    {
     "data": {
      "text/html": [
       "<div>\n",
       "<style scoped>\n",
       "    .dataframe tbody tr th:only-of-type {\n",
       "        vertical-align: middle;\n",
       "    }\n",
       "\n",
       "    .dataframe tbody tr th {\n",
       "        vertical-align: top;\n",
       "    }\n",
       "\n",
       "    .dataframe thead th {\n",
       "        text-align: right;\n",
       "    }\n",
       "</style>\n",
       "<table border=\"1\" class=\"dataframe\">\n",
       "  <thead>\n",
       "    <tr style=\"text-align: right;\">\n",
       "      <th></th>\n",
       "      <th>bedrooms</th>\n",
       "      <th>bathrooms</th>\n",
       "      <th>sqft_living</th>\n",
       "      <th>grade</th>\n",
       "      <th>sqft_living15</th>\n",
       "    </tr>\n",
       "  </thead>\n",
       "  <tbody>\n",
       "    <tr>\n",
       "      <th>3686</th>\n",
       "      <td>3</td>\n",
       "      <td>0.75</td>\n",
       "      <td>850</td>\n",
       "      <td>6</td>\n",
       "      <td>850</td>\n",
       "    </tr>\n",
       "    <tr>\n",
       "      <th>10247</th>\n",
       "      <td>3</td>\n",
       "      <td>1.00</td>\n",
       "      <td>1510</td>\n",
       "      <td>6</td>\n",
       "      <td>1510</td>\n",
       "    </tr>\n",
       "    <tr>\n",
       "      <th>4037</th>\n",
       "      <td>4</td>\n",
       "      <td>2.25</td>\n",
       "      <td>1790</td>\n",
       "      <td>7</td>\n",
       "      <td>2060</td>\n",
       "    </tr>\n",
       "    <tr>\n",
       "      <th>3437</th>\n",
       "      <td>2</td>\n",
       "      <td>1.50</td>\n",
       "      <td>1140</td>\n",
       "      <td>7</td>\n",
       "      <td>1500</td>\n",
       "    </tr>\n",
       "    <tr>\n",
       "      <th>19291</th>\n",
       "      <td>3</td>\n",
       "      <td>1.00</td>\n",
       "      <td>1500</td>\n",
       "      <td>7</td>\n",
       "      <td>1640</td>\n",
       "    </tr>\n",
       "  </tbody>\n",
       "</table>\n",
       "</div>"
      ],
      "text/plain": [
       "       bedrooms  bathrooms  sqft_living  grade  sqft_living15\n",
       "3686          3       0.75          850      6            850\n",
       "10247         3       1.00         1510      6           1510\n",
       "4037          4       2.25         1790      7           2060\n",
       "3437          2       1.50         1140      7           1500\n",
       "19291         3       1.00         1500      7           1640"
      ]
     },
     "execution_count": 39,
     "metadata": {},
     "output_type": "execute_result"
    }
   ],
   "source": [
    "X2_test.head()"
   ]
  },
  {
   "cell_type": "markdown",
   "id": "59bcbda2",
   "metadata": {},
   "source": [
    "<h3>Scale data to STD Normal distribution</h3>"
   ]
  },
  {
   "cell_type": "code",
   "execution_count": 40,
   "id": "6600dc7b",
   "metadata": {},
   "outputs": [],
   "source": [
    "from sklearn.preprocessing import StandardScaler\n",
    "s_scaler = StandardScaler()"
   ]
  },
  {
   "cell_type": "code",
   "execution_count": 41,
   "id": "b8062faa",
   "metadata": {},
   "outputs": [
    {
     "name": "stdout",
     "output_type": "stream",
     "text": [
      "<class 'pandas.core.frame.DataFrame'>\n",
      "Int64Index: 21596 entries, 0 to 21596\n",
      "Data columns (total 6 columns):\n",
      " #   Column         Non-Null Count  Dtype  \n",
      "---  ------         --------------  -----  \n",
      " 0   price          21596 non-null  float64\n",
      " 1   bedrooms       21596 non-null  int64  \n",
      " 2   bathrooms      21596 non-null  float64\n",
      " 3   sqft_living    21596 non-null  int64  \n",
      " 4   grade          21596 non-null  int64  \n",
      " 5   sqft_living15  21596 non-null  int64  \n",
      "dtypes: float64(2), int64(4)\n",
      "memory usage: 1.2 MB\n"
     ]
    }
   ],
   "source": [
    "df_STD.info()"
   ]
  },
  {
   "cell_type": "code",
   "execution_count": 42,
   "id": "865aaa5b",
   "metadata": {
    "scrolled": true
   },
   "outputs": [
    {
     "data": {
      "text/plain": [
       "Index(['price', 'bedrooms', 'bathrooms', 'sqft_living', 'grade',\n",
       "       'sqft_living15'],\n",
       "      dtype='object')"
      ]
     },
     "execution_count": 42,
     "metadata": {},
     "output_type": "execute_result"
    }
   ],
   "source": [
    "df_STD.columns"
   ]
  },
  {
   "cell_type": "code",
   "execution_count": 43,
   "id": "5c0efb0b",
   "metadata": {},
   "outputs": [
    {
     "data": {
      "text/html": [
       "<div>\n",
       "<style scoped>\n",
       "    .dataframe tbody tr th:only-of-type {\n",
       "        vertical-align: middle;\n",
       "    }\n",
       "\n",
       "    .dataframe tbody tr th {\n",
       "        vertical-align: top;\n",
       "    }\n",
       "\n",
       "    .dataframe thead th {\n",
       "        text-align: right;\n",
       "    }\n",
       "</style>\n",
       "<table border=\"1\" class=\"dataframe\">\n",
       "  <thead>\n",
       "    <tr style=\"text-align: right;\">\n",
       "      <th></th>\n",
       "      <th>price</th>\n",
       "      <th>bedrooms</th>\n",
       "      <th>bathrooms</th>\n",
       "      <th>sqft_living</th>\n",
       "      <th>grade</th>\n",
       "      <th>sqft_living15</th>\n",
       "    </tr>\n",
       "  </thead>\n",
       "  <tbody>\n",
       "    <tr>\n",
       "      <th>0</th>\n",
       "      <td>-1.221210</td>\n",
       "      <td>-0.411272</td>\n",
       "      <td>-1.451069</td>\n",
       "      <td>-0.980658</td>\n",
       "      <td>-0.560817</td>\n",
       "      <td>-0.943718</td>\n",
       "    </tr>\n",
       "    <tr>\n",
       "      <th>1</th>\n",
       "      <td>0.189464</td>\n",
       "      <td>-0.411272</td>\n",
       "      <td>0.174461</td>\n",
       "      <td>0.533337</td>\n",
       "      <td>-0.560817</td>\n",
       "      <td>-0.432930</td>\n",
       "    </tr>\n",
       "    <tr>\n",
       "      <th>2</th>\n",
       "      <td>-1.221210</td>\n",
       "      <td>-1.517353</td>\n",
       "      <td>-1.451069</td>\n",
       "      <td>-1.427232</td>\n",
       "      <td>-1.413193</td>\n",
       "      <td>1.070246</td>\n",
       "    </tr>\n",
       "    <tr>\n",
       "      <th>3</th>\n",
       "      <td>0.507227</td>\n",
       "      <td>0.694809</td>\n",
       "      <td>1.149778</td>\n",
       "      <td>-0.131078</td>\n",
       "      <td>-0.560817</td>\n",
       "      <td>-0.914530</td>\n",
       "    </tr>\n",
       "    <tr>\n",
       "      <th>4</th>\n",
       "      <td>0.054656</td>\n",
       "      <td>-0.411272</td>\n",
       "      <td>-0.150645</td>\n",
       "      <td>-0.436056</td>\n",
       "      <td>0.291559</td>\n",
       "      <td>-0.272397</td>\n",
       "    </tr>\n",
       "  </tbody>\n",
       "</table>\n",
       "</div>"
      ],
      "text/plain": [
       "      price  bedrooms  bathrooms  sqft_living     grade  sqft_living15\n",
       "0 -1.221210 -0.411272  -1.451069    -0.980658 -0.560817      -0.943718\n",
       "1  0.189464 -0.411272   0.174461     0.533337 -0.560817      -0.432930\n",
       "2 -1.221210 -1.517353  -1.451069    -1.427232 -1.413193       1.070246\n",
       "3  0.507227  0.694809   1.149778    -0.131078 -0.560817      -0.914530\n",
       "4  0.054656 -0.411272  -0.150645    -0.436056  0.291559      -0.272397"
      ]
     },
     "execution_count": 43,
     "metadata": {},
     "output_type": "execute_result"
    }
   ],
   "source": [
    "df_scaled = s_scaler.fit_transform(df_STD[df_STD.columns])\n",
    "df_scaled = pd.DataFrame(df_scaled, columns=df_STD.columns)\n",
    "df_scaled.head()\n"
   ]
  },
  {
   "cell_type": "code",
   "execution_count": 44,
   "id": "11ca0a00",
   "metadata": {},
   "outputs": [],
   "source": [
    "X_scaled = df_scaled[['bedrooms', 'bathrooms', 'sqft_living', 'grade', 'sqft_living15']]\n",
    "\n",
    "y_scaled = df_scaled[['price']]"
   ]
  },
  {
   "cell_type": "code",
   "execution_count": 45,
   "id": "046b645e",
   "metadata": {},
   "outputs": [],
   "source": [
    "Xscaled_train, Xscaled_test, yscaled_train, yscaled_test = \\\n",
    "train_test_split(X_scaled, y_scaled, test_size=0.33)"
   ]
  },
  {
   "cell_type": "code",
   "execution_count": 46,
   "id": "a5d7ba1b",
   "metadata": {},
   "outputs": [
    {
     "data": {
      "text/html": [
       "<style>#sk-container-id-3 {color: black;}#sk-container-id-3 pre{padding: 0;}#sk-container-id-3 div.sk-toggleable {background-color: white;}#sk-container-id-3 label.sk-toggleable__label {cursor: pointer;display: block;width: 100%;margin-bottom: 0;padding: 0.3em;box-sizing: border-box;text-align: center;}#sk-container-id-3 label.sk-toggleable__label-arrow:before {content: \"▸\";float: left;margin-right: 0.25em;color: #696969;}#sk-container-id-3 label.sk-toggleable__label-arrow:hover:before {color: black;}#sk-container-id-3 div.sk-estimator:hover label.sk-toggleable__label-arrow:before {color: black;}#sk-container-id-3 div.sk-toggleable__content {max-height: 0;max-width: 0;overflow: hidden;text-align: left;background-color: #f0f8ff;}#sk-container-id-3 div.sk-toggleable__content pre {margin: 0.2em;color: black;border-radius: 0.25em;background-color: #f0f8ff;}#sk-container-id-3 input.sk-toggleable__control:checked~div.sk-toggleable__content {max-height: 200px;max-width: 100%;overflow: auto;}#sk-container-id-3 input.sk-toggleable__control:checked~label.sk-toggleable__label-arrow:before {content: \"▾\";}#sk-container-id-3 div.sk-estimator input.sk-toggleable__control:checked~label.sk-toggleable__label {background-color: #d4ebff;}#sk-container-id-3 div.sk-label input.sk-toggleable__control:checked~label.sk-toggleable__label {background-color: #d4ebff;}#sk-container-id-3 input.sk-hidden--visually {border: 0;clip: rect(1px 1px 1px 1px);clip: rect(1px, 1px, 1px, 1px);height: 1px;margin: -1px;overflow: hidden;padding: 0;position: absolute;width: 1px;}#sk-container-id-3 div.sk-estimator {font-family: monospace;background-color: #f0f8ff;border: 1px dotted black;border-radius: 0.25em;box-sizing: border-box;margin-bottom: 0.5em;}#sk-container-id-3 div.sk-estimator:hover {background-color: #d4ebff;}#sk-container-id-3 div.sk-parallel-item::after {content: \"\";width: 100%;border-bottom: 1px solid gray;flex-grow: 1;}#sk-container-id-3 div.sk-label:hover label.sk-toggleable__label {background-color: #d4ebff;}#sk-container-id-3 div.sk-serial::before {content: \"\";position: absolute;border-left: 1px solid gray;box-sizing: border-box;top: 0;bottom: 0;left: 50%;z-index: 0;}#sk-container-id-3 div.sk-serial {display: flex;flex-direction: column;align-items: center;background-color: white;padding-right: 0.2em;padding-left: 0.2em;position: relative;}#sk-container-id-3 div.sk-item {position: relative;z-index: 1;}#sk-container-id-3 div.sk-parallel {display: flex;align-items: stretch;justify-content: center;background-color: white;position: relative;}#sk-container-id-3 div.sk-item::before, #sk-container-id-3 div.sk-parallel-item::before {content: \"\";position: absolute;border-left: 1px solid gray;box-sizing: border-box;top: 0;bottom: 0;left: 50%;z-index: -1;}#sk-container-id-3 div.sk-parallel-item {display: flex;flex-direction: column;z-index: 1;position: relative;background-color: white;}#sk-container-id-3 div.sk-parallel-item:first-child::after {align-self: flex-end;width: 50%;}#sk-container-id-3 div.sk-parallel-item:last-child::after {align-self: flex-start;width: 50%;}#sk-container-id-3 div.sk-parallel-item:only-child::after {width: 0;}#sk-container-id-3 div.sk-dashed-wrapped {border: 1px dashed gray;margin: 0 0.4em 0.5em 0.4em;box-sizing: border-box;padding-bottom: 0.4em;background-color: white;}#sk-container-id-3 div.sk-label label {font-family: monospace;font-weight: bold;display: inline-block;line-height: 1.2em;}#sk-container-id-3 div.sk-label-container {text-align: center;}#sk-container-id-3 div.sk-container {/* jupyter's `normalize.less` sets `[hidden] { display: none; }` but bootstrap.min.css set `[hidden] { display: none !important; }` so we also need the `!important` here to be able to override the default hidden behavior on the sphinx rendered scikit-learn.org. See: https://github.com/scikit-learn/scikit-learn/issues/21755 */display: inline-block !important;position: relative;}#sk-container-id-3 div.sk-text-repr-fallback {display: none;}</style><div id=\"sk-container-id-3\" class=\"sk-top-container\"><div class=\"sk-text-repr-fallback\"><pre>LinearRegression()</pre><b>In a Jupyter environment, please rerun this cell to show the HTML representation or trust the notebook. <br />On GitHub, the HTML representation is unable to render, please try loading this page with nbviewer.org.</b></div><div class=\"sk-container\" hidden><div class=\"sk-item\"><div class=\"sk-estimator sk-toggleable\"><input class=\"sk-toggleable__control sk-hidden--visually\" id=\"sk-estimator-id-3\" type=\"checkbox\" checked><label for=\"sk-estimator-id-3\" class=\"sk-toggleable__label sk-toggleable__label-arrow\">LinearRegression</label><div class=\"sk-toggleable__content\"><pre>LinearRegression()</pre></div></div></div></div></div>"
      ],
      "text/plain": [
       "LinearRegression()"
      ]
     },
     "execution_count": 46,
     "metadata": {},
     "output_type": "execute_result"
    }
   ],
   "source": [
    "lm_scaled = LinearRegression()\n",
    "lm_scaled.fit(Xscaled_train, yscaled_train)"
   ]
  },
  {
   "cell_type": "code",
   "execution_count": 47,
   "id": "5526a638",
   "metadata": {
    "scrolled": true
   },
   "outputs": [
    {
     "data": {
      "text/html": [
       "<div>\n",
       "<style scoped>\n",
       "    .dataframe tbody tr th:only-of-type {\n",
       "        vertical-align: middle;\n",
       "    }\n",
       "\n",
       "    .dataframe tbody tr th {\n",
       "        vertical-align: top;\n",
       "    }\n",
       "\n",
       "    .dataframe thead th {\n",
       "        text-align: right;\n",
       "    }\n",
       "</style>\n",
       "<table border=\"1\" class=\"dataframe\">\n",
       "  <thead>\n",
       "    <tr style=\"text-align: right;\">\n",
       "      <th></th>\n",
       "      <th>coefficients</th>\n",
       "    </tr>\n",
       "  </thead>\n",
       "  <tbody>\n",
       "    <tr>\n",
       "      <th>bedrooms</th>\n",
       "      <td>-0.017480</td>\n",
       "    </tr>\n",
       "    <tr>\n",
       "      <th>bathrooms</th>\n",
       "      <td>-0.059788</td>\n",
       "    </tr>\n",
       "    <tr>\n",
       "      <th>sqft_living</th>\n",
       "      <td>0.322277</td>\n",
       "    </tr>\n",
       "    <tr>\n",
       "      <th>grade</th>\n",
       "      <td>0.389741</td>\n",
       "    </tr>\n",
       "    <tr>\n",
       "      <th>sqft_living15</th>\n",
       "      <td>0.127541</td>\n",
       "    </tr>\n",
       "  </tbody>\n",
       "</table>\n",
       "</div>"
      ],
      "text/plain": [
       "               coefficients\n",
       "bedrooms          -0.017480\n",
       "bathrooms         -0.059788\n",
       "sqft_living        0.322277\n",
       "grade              0.389741\n",
       "sqft_living15      0.127541"
      ]
     },
     "execution_count": 47,
     "metadata": {},
     "output_type": "execute_result"
    }
   ],
   "source": [
    "cdf = pd.DataFrame(lm_scaled.coef_[0], index=Xscaled_train.columns, columns=['coefficients'])\n",
    "cdf"
   ]
  },
  {
   "cell_type": "markdown",
   "id": "8ec7e8b4",
   "metadata": {},
   "source": [
    "<h5>coefficients for scaled data show grade having more influence on price, then sqft_living.</h5><br>"
   ]
  },
  {
   "cell_type": "code",
   "execution_count": 48,
   "id": "bcbb93b4",
   "metadata": {},
   "outputs": [
    {
     "data": {
      "text/plain": [
       "array([0.00054446])"
      ]
     },
     "execution_count": 48,
     "metadata": {},
     "output_type": "execute_result"
    }
   ],
   "source": [
    "lm_scaled.intercept_"
   ]
  },
  {
   "cell_type": "code",
   "execution_count": 49,
   "id": "c3fdf633",
   "metadata": {},
   "outputs": [],
   "source": [
    "from statsmodels.regression import linear_model"
   ]
  },
  {
   "cell_type": "code",
   "execution_count": 50,
   "id": "7c3a9939",
   "metadata": {},
   "outputs": [
    {
     "data": {
      "text/plain": [
       "(14469, 1)"
      ]
     },
     "execution_count": 50,
     "metadata": {},
     "output_type": "execute_result"
    }
   ],
   "source": [
    "yscaled_train.shape"
   ]
  },
  {
   "cell_type": "code",
   "execution_count": 51,
   "id": "3842a58a",
   "metadata": {},
   "outputs": [],
   "source": [
    "Xscaled_train = sm.add_constant(Xscaled_train)\n",
    "sm_ols1 = linear_model.OLS(yscaled_train, Xscaled_train) \n",
    "sm_model1 = sm_ols1.fit()\n"
   ]
  },
  {
   "cell_type": "code",
   "execution_count": 52,
   "id": "cf38c570",
   "metadata": {
    "scrolled": true
   },
   "outputs": [
    {
     "name": "stdout",
     "output_type": "stream",
     "text": [
      "Adjusted R-squared: 0.5188272340637923\n"
     ]
    }
   ],
   "source": [
    "# Capture the Adjusted R-squared\n",
    "adjusted_r_squared = sm_model1.rsquared_adj\n",
    "print(f'Adjusted R-squared: {adjusted_r_squared}')"
   ]
  },
  {
   "cell_type": "markdown",
   "id": "c8b4630a",
   "metadata": {},
   "source": [
    "<h5>The new adjusted R-squared with scaled data is still within the statistically significant, however it is lower than the R-squared of the raw data. It means the scaled predictor improved the model less than expected </h5><br>"
   ]
  },
  {
   "cell_type": "code",
   "execution_count": 53,
   "id": "e49add1e",
   "metadata": {
    "scrolled": true
   },
   "outputs": [
    {
     "data": {
      "text/html": [
       "<table class=\"simpletable\">\n",
       "<caption>OLS Regression Results</caption>\n",
       "<tr>\n",
       "  <th>Dep. Variable:</th>          <td>price</td>      <th>  R-squared:         </th> <td>   0.519</td> \n",
       "</tr>\n",
       "<tr>\n",
       "  <th>Model:</th>                   <td>OLS</td>       <th>  Adj. R-squared:    </th> <td>   0.519</td> \n",
       "</tr>\n",
       "<tr>\n",
       "  <th>Method:</th>             <td>Least Squares</td>  <th>  F-statistic:       </th> <td>   3121.</td> \n",
       "</tr>\n",
       "<tr>\n",
       "  <th>Date:</th>             <td>Tue, 05 Dec 2023</td> <th>  Prob (F-statistic):</th>  <td>  0.00</td>  \n",
       "</tr>\n",
       "<tr>\n",
       "  <th>Time:</th>                 <td>01:11:47</td>     <th>  Log-Likelihood:    </th> <td> -15167.</td> \n",
       "</tr>\n",
       "<tr>\n",
       "  <th>No. Observations:</th>      <td> 14469</td>      <th>  AIC:               </th> <td>3.035e+04</td>\n",
       "</tr>\n",
       "<tr>\n",
       "  <th>Df Residuals:</th>          <td> 14463</td>      <th>  BIC:               </th> <td>3.039e+04</td>\n",
       "</tr>\n",
       "<tr>\n",
       "  <th>Df Model:</th>              <td>     5</td>      <th>                     </th>     <td> </td>    \n",
       "</tr>\n",
       "<tr>\n",
       "  <th>Covariance Type:</th>      <td>nonrobust</td>    <th>                     </th>     <td> </td>    \n",
       "</tr>\n",
       "</table>\n",
       "<table class=\"simpletable\">\n",
       "<tr>\n",
       "        <td></td>           <th>coef</th>     <th>std err</th>      <th>t</th>      <th>P>|t|</th>  <th>[0.025</th>    <th>0.975]</th>  \n",
       "</tr>\n",
       "<tr>\n",
       "  <th>const</th>         <td>    0.0005</td> <td>    0.006</td> <td>    0.095</td> <td> 0.924</td> <td>   -0.011</td> <td>    0.012</td>\n",
       "</tr>\n",
       "<tr>\n",
       "  <th>bedrooms</th>      <td>   -0.0175</td> <td>    0.007</td> <td>   -2.367</td> <td> 0.018</td> <td>   -0.032</td> <td>   -0.003</td>\n",
       "</tr>\n",
       "<tr>\n",
       "  <th>bathrooms</th>     <td>   -0.0598</td> <td>    0.009</td> <td>   -6.551</td> <td> 0.000</td> <td>   -0.078</td> <td>   -0.042</td>\n",
       "</tr>\n",
       "<tr>\n",
       "  <th>sqft_living</th>   <td>    0.3223</td> <td>    0.012</td> <td>   25.903</td> <td> 0.000</td> <td>    0.298</td> <td>    0.347</td>\n",
       "</tr>\n",
       "<tr>\n",
       "  <th>grade</th>         <td>    0.3897</td> <td>    0.010</td> <td>   39.659</td> <td> 0.000</td> <td>    0.370</td> <td>    0.409</td>\n",
       "</tr>\n",
       "<tr>\n",
       "  <th>sqft_living15</th> <td>    0.1275</td> <td>    0.009</td> <td>   13.705</td> <td> 0.000</td> <td>    0.109</td> <td>    0.146</td>\n",
       "</tr>\n",
       "</table>\n",
       "<table class=\"simpletable\">\n",
       "<tr>\n",
       "  <th>Omnibus:</th>       <td>413.700</td> <th>  Durbin-Watson:     </th> <td>   1.995</td>\n",
       "</tr>\n",
       "<tr>\n",
       "  <th>Prob(Omnibus):</th> <td> 0.000</td>  <th>  Jarque-Bera (JB):  </th> <td> 449.751</td>\n",
       "</tr>\n",
       "<tr>\n",
       "  <th>Skew:</th>          <td> 0.432</td>  <th>  Prob(JB):          </th> <td>2.18e-98</td>\n",
       "</tr>\n",
       "<tr>\n",
       "  <th>Kurtosis:</th>      <td> 3.026</td>  <th>  Cond. No.          </th> <td>    4.63</td>\n",
       "</tr>\n",
       "</table><br/><br/>Notes:<br/>[1] Standard Errors assume that the covariance matrix of the errors is correctly specified."
      ],
      "text/latex": [
       "\\begin{center}\n",
       "\\begin{tabular}{lclc}\n",
       "\\toprule\n",
       "\\textbf{Dep. Variable:}    &      price       & \\textbf{  R-squared:         } &     0.519   \\\\\n",
       "\\textbf{Model:}            &       OLS        & \\textbf{  Adj. R-squared:    } &     0.519   \\\\\n",
       "\\textbf{Method:}           &  Least Squares   & \\textbf{  F-statistic:       } &     3121.   \\\\\n",
       "\\textbf{Date:}             & Tue, 05 Dec 2023 & \\textbf{  Prob (F-statistic):} &     0.00    \\\\\n",
       "\\textbf{Time:}             &     01:11:47     & \\textbf{  Log-Likelihood:    } &   -15167.   \\\\\n",
       "\\textbf{No. Observations:} &       14469      & \\textbf{  AIC:               } & 3.035e+04   \\\\\n",
       "\\textbf{Df Residuals:}     &       14463      & \\textbf{  BIC:               } & 3.039e+04   \\\\\n",
       "\\textbf{Df Model:}         &           5      & \\textbf{                     } &             \\\\\n",
       "\\textbf{Covariance Type:}  &    nonrobust     & \\textbf{                     } &             \\\\\n",
       "\\bottomrule\n",
       "\\end{tabular}\n",
       "\\begin{tabular}{lcccccc}\n",
       "                        & \\textbf{coef} & \\textbf{std err} & \\textbf{t} & \\textbf{P$> |$t$|$} & \\textbf{[0.025} & \\textbf{0.975]}  \\\\\n",
       "\\midrule\n",
       "\\textbf{const}          &       0.0005  &        0.006     &     0.095  &         0.924        &       -0.011    &        0.012     \\\\\n",
       "\\textbf{bedrooms}       &      -0.0175  &        0.007     &    -2.367  &         0.018        &       -0.032    &       -0.003     \\\\\n",
       "\\textbf{bathrooms}      &      -0.0598  &        0.009     &    -6.551  &         0.000        &       -0.078    &       -0.042     \\\\\n",
       "\\textbf{sqft\\_living}   &       0.3223  &        0.012     &    25.903  &         0.000        &        0.298    &        0.347     \\\\\n",
       "\\textbf{grade}          &       0.3897  &        0.010     &    39.659  &         0.000        &        0.370    &        0.409     \\\\\n",
       "\\textbf{sqft\\_living15} &       0.1275  &        0.009     &    13.705  &         0.000        &        0.109    &        0.146     \\\\\n",
       "\\bottomrule\n",
       "\\end{tabular}\n",
       "\\begin{tabular}{lclc}\n",
       "\\textbf{Omnibus:}       & 413.700 & \\textbf{  Durbin-Watson:     } &    1.995  \\\\\n",
       "\\textbf{Prob(Omnibus):} &   0.000 & \\textbf{  Jarque-Bera (JB):  } &  449.751  \\\\\n",
       "\\textbf{Skew:}          &   0.432 & \\textbf{  Prob(JB):          } & 2.18e-98  \\\\\n",
       "\\textbf{Kurtosis:}      &   3.026 & \\textbf{  Cond. No.          } &     4.63  \\\\\n",
       "\\bottomrule\n",
       "\\end{tabular}\n",
       "%\\caption{OLS Regression Results}\n",
       "\\end{center}\n",
       "\n",
       "Notes: \\newline\n",
       " [1] Standard Errors assume that the covariance matrix of the errors is correctly specified."
      ],
      "text/plain": [
       "<class 'statsmodels.iolib.summary.Summary'>\n",
       "\"\"\"\n",
       "                            OLS Regression Results                            \n",
       "==============================================================================\n",
       "Dep. Variable:                  price   R-squared:                       0.519\n",
       "Model:                            OLS   Adj. R-squared:                  0.519\n",
       "Method:                 Least Squares   F-statistic:                     3121.\n",
       "Date:                Tue, 05 Dec 2023   Prob (F-statistic):               0.00\n",
       "Time:                        01:11:47   Log-Likelihood:                -15167.\n",
       "No. Observations:               14469   AIC:                         3.035e+04\n",
       "Df Residuals:                   14463   BIC:                         3.039e+04\n",
       "Df Model:                           5                                         \n",
       "Covariance Type:            nonrobust                                         \n",
       "=================================================================================\n",
       "                    coef    std err          t      P>|t|      [0.025      0.975]\n",
       "---------------------------------------------------------------------------------\n",
       "const             0.0005      0.006      0.095      0.924      -0.011       0.012\n",
       "bedrooms         -0.0175      0.007     -2.367      0.018      -0.032      -0.003\n",
       "bathrooms        -0.0598      0.009     -6.551      0.000      -0.078      -0.042\n",
       "sqft_living       0.3223      0.012     25.903      0.000       0.298       0.347\n",
       "grade             0.3897      0.010     39.659      0.000       0.370       0.409\n",
       "sqft_living15     0.1275      0.009     13.705      0.000       0.109       0.146\n",
       "==============================================================================\n",
       "Omnibus:                      413.700   Durbin-Watson:                   1.995\n",
       "Prob(Omnibus):                  0.000   Jarque-Bera (JB):              449.751\n",
       "Skew:                           0.432   Prob(JB):                     2.18e-98\n",
       "Kurtosis:                       3.026   Cond. No.                         4.63\n",
       "==============================================================================\n",
       "\n",
       "Notes:\n",
       "[1] Standard Errors assume that the covariance matrix of the errors is correctly specified.\n",
       "\"\"\""
      ]
     },
     "execution_count": 53,
     "metadata": {},
     "output_type": "execute_result"
    }
   ],
   "source": [
    "sm_model1.summary()"
   ]
  },
  {
   "cell_type": "markdown",
   "id": "e7bf21ad",
   "metadata": {},
   "source": [
    "<h5>Skew is < 0.5 which shows the data being fairly symmetrical once the data was scaled. Kurtosis is good.</h5><br>"
   ]
  },
  {
   "cell_type": "code",
   "execution_count": 54,
   "id": "56015a3c",
   "metadata": {},
   "outputs": [],
   "source": [
    "yscaled_predicted = lm_scaled.predict(Xscaled_test)\n",
    "residuals_scaled = yscaled_test - yscaled_predicted"
   ]
  },
  {
   "cell_type": "code",
   "execution_count": 55,
   "id": "5bb880a6",
   "metadata": {},
   "outputs": [
    {
     "name": "stderr",
     "output_type": "stream",
     "text": [
      "C:\\Users\\61405\\AppData\\Local\\Temp\\ipykernel_28212\\1323505765.py:22: UserWarning: \n",
      "\n",
      "`distplot` is a deprecated function and will be removed in seaborn v0.14.0.\n",
      "\n",
      "Please adapt your code to use either `displot` (a figure-level function with\n",
      "similar flexibility) or `histplot` (an axes-level function for histograms).\n",
      "\n",
      "For a guide to updating your code to use the new functions, please see\n",
      "https://gist.github.com/mwaskom/de44147ed2974457ad6372750bbe5751\n",
      "\n",
      "  sns.distplot(residuals_scaled, ax=axs[1][1])\n"
     ]
    },
    {
     "data": {
      "image/png": "[encoded data removed]",
      "text/plain": [
       "<Figure size 1000x1000 with 4 Axes>"
      ]
     },
     "metadata": {},
     "output_type": "display_data"
    }
   ],
   "source": [
    "fig, axs = plt.subplots(2,2, figsize=(10,10))\n",
    "plt.tight_layout()\n",
    "\n",
    "plt1 = axs[0][0].scatter(x=yscaled_test, y=yscaled_predicted)\n",
    "axs[0][0].set_title('Fitted vs Predicted')\n",
    "axs[0][0].set_xlabel('Price - test')\n",
    "axs[0][0].set_ylabel('Price - predicted')\n",
    "\n",
    "plt2 = axs[0][1].scatter(x=yscaled_test, y=residuals_scaled)\n",
    "axs[0][1].hlines(0, xmin=-2, xmax=2)\n",
    "axs[0][1].set_title('Fitted vs Residuals')\n",
    "axs[0][1].set_xlabel('Price - test (fitted)')\n",
    "axs[0][1].set_ylabel('Residuals')\n",
    "\n",
    "from numpy import random\n",
    "axs[1][0].scatter(x=sorted(random.randn(len(residuals_scaled))), \n",
    "                  y=sorted(residuals_scaled['price']))\n",
    "axs[1][0].set_title('QQ plot of Residuals')\n",
    "axs[1][0].set_xlabel('Std. normal z scores')\n",
    "axs[1][0].set_ylabel('Residuals')\n",
    "\n",
    "sns.distplot(residuals_scaled, ax=axs[1][1])\n",
    "axs[1][1].set_title('Histogram of residuals')\n",
    "plt.tight_layout()"
   ]
  },
  {
   "cell_type": "markdown",
   "id": "d418cf89",
   "metadata": {},
   "source": [
    "<h5>Normality met. Assumptions hold.</h5>"
   ]
  },
  {
   "cell_type": "markdown",
   "id": "db58385b",
   "metadata": {},
   "source": [
    "<h3>Log transformation and creating dummy variables</h3>"
   ]
  },
  {
   "cell_type": "code",
   "execution_count": 56,
   "id": "5791a322",
   "metadata": {},
   "outputs": [],
   "source": [
    "df['sqft_liv_log'] = np.log(df['sqft_living'])\n",
    "df['sqft_liv15_log'] = np.log(df['sqft_living15'])"
   ]
  },
  {
   "cell_type": "code",
   "execution_count": 57,
   "id": "46c21839",
   "metadata": {},
   "outputs": [
    {
     "data": {
      "text/html": [
       "<div>\n",
       "<style scoped>\n",
       "    .dataframe tbody tr th:only-of-type {\n",
       "        vertical-align: middle;\n",
       "    }\n",
       "\n",
       "    .dataframe tbody tr th {\n",
       "        vertical-align: top;\n",
       "    }\n",
       "\n",
       "    .dataframe thead th {\n",
       "        text-align: right;\n",
       "    }\n",
       "</style>\n",
       "<table border=\"1\" class=\"dataframe\">\n",
       "  <thead>\n",
       "    <tr style=\"text-align: right;\">\n",
       "      <th></th>\n",
       "      <th>price</th>\n",
       "      <th>bedrooms</th>\n",
       "      <th>bathrooms</th>\n",
       "      <th>grade</th>\n",
       "      <th>sqft_liv_log</th>\n",
       "      <th>sqft_liv15_log</th>\n",
       "    </tr>\n",
       "  </thead>\n",
       "  <tbody>\n",
       "    <tr>\n",
       "      <th>0</th>\n",
       "      <td>245000.0</td>\n",
       "      <td>3</td>\n",
       "      <td>1.00</td>\n",
       "      <td>7</td>\n",
       "      <td>7.073270</td>\n",
       "      <td>7.200425</td>\n",
       "    </tr>\n",
       "    <tr>\n",
       "      <th>1</th>\n",
       "      <td>538000.0</td>\n",
       "      <td>3</td>\n",
       "      <td>2.25</td>\n",
       "      <td>7</td>\n",
       "      <td>7.851661</td>\n",
       "      <td>7.432484</td>\n",
       "    </tr>\n",
       "    <tr>\n",
       "      <th>2</th>\n",
       "      <td>245000.0</td>\n",
       "      <td>2</td>\n",
       "      <td>1.00</td>\n",
       "      <td>6</td>\n",
       "      <td>6.646391</td>\n",
       "      <td>7.908387</td>\n",
       "    </tr>\n",
       "    <tr>\n",
       "      <th>3</th>\n",
       "      <td>604000.0</td>\n",
       "      <td>4</td>\n",
       "      <td>3.00</td>\n",
       "      <td>7</td>\n",
       "      <td>7.580700</td>\n",
       "      <td>7.215240</td>\n",
       "    </tr>\n",
       "    <tr>\n",
       "      <th>4</th>\n",
       "      <td>510000.0</td>\n",
       "      <td>3</td>\n",
       "      <td>2.00</td>\n",
       "      <td>8</td>\n",
       "      <td>7.426549</td>\n",
       "      <td>7.495542</td>\n",
       "    </tr>\n",
       "  </tbody>\n",
       "</table>\n",
       "</div>"
      ],
      "text/plain": [
       "      price  bedrooms  bathrooms  grade  sqft_liv_log  sqft_liv15_log\n",
       "0  245000.0         3       1.00      7      7.073270        7.200425\n",
       "1  538000.0         3       2.25      7      7.851661        7.432484\n",
       "2  245000.0         2       1.00      6      6.646391        7.908387\n",
       "3  604000.0         4       3.00      7      7.580700        7.215240\n",
       "4  510000.0         3       2.00      8      7.426549        7.495542"
      ]
     },
     "execution_count": 57,
     "metadata": {},
     "output_type": "execute_result"
    }
   ],
   "source": [
    "df2 = df.drop(['sqft_living','sqft_living15'], axis=1)\n",
    "df2.head()"
   ]
  },
  {
   "cell_type": "code",
   "execution_count": 58,
   "id": "c617892e",
   "metadata": {},
   "outputs": [],
   "source": [
    "df['bedrooms'] = df['bedrooms'].apply(str)\n",
    "df['bathrooms'] = df['bathrooms'].apply(str)\n",
    "df['grade'] = df['grade'].apply(str)"
   ]
  },
  {
   "cell_type": "code",
   "execution_count": 59,
   "id": "7c2212b7",
   "metadata": {
    "scrolled": true
   },
   "outputs": [
    {
     "data": {
      "text/plain": [
       "price             float64\n",
       "bedrooms           object\n",
       "bathrooms          object\n",
       "sqft_living         int64\n",
       "grade              object\n",
       "sqft_living15       int64\n",
       "sqft_liv_log      float64\n",
       "sqft_liv15_log    float64\n",
       "dtype: object"
      ]
     },
     "execution_count": 59,
     "metadata": {},
     "output_type": "execute_result"
    }
   ],
   "source": [
    "df.dtypes"
   ]
  },
  {
   "cell_type": "code",
   "execution_count": 60,
   "id": "c2fee98d",
   "metadata": {},
   "outputs": [],
   "source": [
    "bdr_dummies = pd.get_dummies(df['bedrooms'], prefix='bdr', drop_first=True)\n",
    "bth_dummies = pd.get_dummies(df['bathrooms'], prefix='bth', drop_first=True)\n",
    "grd_dummies = pd.get_dummies(df['grade'], prefix='grd', drop_first=True)"
   ]
  },
  {
   "cell_type": "code",
   "execution_count": 61,
   "id": "f23ea095",
   "metadata": {},
   "outputs": [],
   "source": [
    "df2 = df.drop(['bedrooms','bathrooms','grade'], axis=1)"
   ]
  },
  {
   "cell_type": "code",
   "execution_count": 62,
   "id": "53b650c5",
   "metadata": {
    "scrolled": false
   },
   "outputs": [
    {
     "data": {
      "text/html": [
       "<div>\n",
       "<style scoped>\n",
       "    .dataframe tbody tr th:only-of-type {\n",
       "        vertical-align: middle;\n",
       "    }\n",
       "\n",
       "    .dataframe tbody tr th {\n",
       "        vertical-align: top;\n",
       "    }\n",
       "\n",
       "    .dataframe thead th {\n",
       "        text-align: right;\n",
       "    }\n",
       "</style>\n",
       "<table border=\"1\" class=\"dataframe\">\n",
       "  <thead>\n",
       "    <tr style=\"text-align: right;\">\n",
       "      <th></th>\n",
       "      <th>price</th>\n",
       "      <th>sqft_living</th>\n",
       "      <th>sqft_living15</th>\n",
       "      <th>sqft_liv_log</th>\n",
       "      <th>sqft_liv15_log</th>\n",
       "      <th>bdr_10</th>\n",
       "      <th>bdr_11</th>\n",
       "      <th>bdr_2</th>\n",
       "      <th>bdr_3</th>\n",
       "      <th>bdr_4</th>\n",
       "      <th>...</th>\n",
       "      <th>grd_11</th>\n",
       "      <th>grd_12</th>\n",
       "      <th>grd_13</th>\n",
       "      <th>grd_3</th>\n",
       "      <th>grd_4</th>\n",
       "      <th>grd_5</th>\n",
       "      <th>grd_6</th>\n",
       "      <th>grd_7</th>\n",
       "      <th>grd_8</th>\n",
       "      <th>grd_9</th>\n",
       "    </tr>\n",
       "  </thead>\n",
       "  <tbody>\n",
       "    <tr>\n",
       "      <th>0</th>\n",
       "      <td>245000.0</td>\n",
       "      <td>1180</td>\n",
       "      <td>1340</td>\n",
       "      <td>7.073270</td>\n",
       "      <td>7.200425</td>\n",
       "      <td>0</td>\n",
       "      <td>0</td>\n",
       "      <td>0</td>\n",
       "      <td>1</td>\n",
       "      <td>0</td>\n",
       "      <td>...</td>\n",
       "      <td>0</td>\n",
       "      <td>0</td>\n",
       "      <td>0</td>\n",
       "      <td>0</td>\n",
       "      <td>0</td>\n",
       "      <td>0</td>\n",
       "      <td>0</td>\n",
       "      <td>1</td>\n",
       "      <td>0</td>\n",
       "      <td>0</td>\n",
       "    </tr>\n",
       "    <tr>\n",
       "      <th>1</th>\n",
       "      <td>538000.0</td>\n",
       "      <td>2570</td>\n",
       "      <td>1690</td>\n",
       "      <td>7.851661</td>\n",
       "      <td>7.432484</td>\n",
       "      <td>0</td>\n",
       "      <td>0</td>\n",
       "      <td>0</td>\n",
       "      <td>1</td>\n",
       "      <td>0</td>\n",
       "      <td>...</td>\n",
       "      <td>0</td>\n",
       "      <td>0</td>\n",
       "      <td>0</td>\n",
       "      <td>0</td>\n",
       "      <td>0</td>\n",
       "      <td>0</td>\n",
       "      <td>0</td>\n",
       "      <td>1</td>\n",
       "      <td>0</td>\n",
       "      <td>0</td>\n",
       "    </tr>\n",
       "    <tr>\n",
       "      <th>2</th>\n",
       "      <td>245000.0</td>\n",
       "      <td>770</td>\n",
       "      <td>2720</td>\n",
       "      <td>6.646391</td>\n",
       "      <td>7.908387</td>\n",
       "      <td>0</td>\n",
       "      <td>0</td>\n",
       "      <td>1</td>\n",
       "      <td>0</td>\n",
       "      <td>0</td>\n",
       "      <td>...</td>\n",
       "      <td>0</td>\n",
       "      <td>0</td>\n",
       "      <td>0</td>\n",
       "      <td>0</td>\n",
       "      <td>0</td>\n",
       "      <td>0</td>\n",
       "      <td>1</td>\n",
       "      <td>0</td>\n",
       "      <td>0</td>\n",
       "      <td>0</td>\n",
       "    </tr>\n",
       "    <tr>\n",
       "      <th>3</th>\n",
       "      <td>604000.0</td>\n",
       "      <td>1960</td>\n",
       "      <td>1360</td>\n",
       "      <td>7.580700</td>\n",
       "      <td>7.215240</td>\n",
       "      <td>0</td>\n",
       "      <td>0</td>\n",
       "      <td>0</td>\n",
       "      <td>0</td>\n",
       "      <td>1</td>\n",
       "      <td>...</td>\n",
       "      <td>0</td>\n",
       "      <td>0</td>\n",
       "      <td>0</td>\n",
       "      <td>0</td>\n",
       "      <td>0</td>\n",
       "      <td>0</td>\n",
       "      <td>0</td>\n",
       "      <td>1</td>\n",
       "      <td>0</td>\n",
       "      <td>0</td>\n",
       "    </tr>\n",
       "    <tr>\n",
       "      <th>4</th>\n",
       "      <td>510000.0</td>\n",
       "      <td>1680</td>\n",
       "      <td>1800</td>\n",
       "      <td>7.426549</td>\n",
       "      <td>7.495542</td>\n",
       "      <td>0</td>\n",
       "      <td>0</td>\n",
       "      <td>0</td>\n",
       "      <td>1</td>\n",
       "      <td>0</td>\n",
       "      <td>...</td>\n",
       "      <td>0</td>\n",
       "      <td>0</td>\n",
       "      <td>0</td>\n",
       "      <td>0</td>\n",
       "      <td>0</td>\n",
       "      <td>0</td>\n",
       "      <td>0</td>\n",
       "      <td>0</td>\n",
       "      <td>1</td>\n",
       "      <td>0</td>\n",
       "    </tr>\n",
       "  </tbody>\n",
       "</table>\n",
       "<p>5 rows × 53 columns</p>\n",
       "</div>"
      ],
      "text/plain": [
       "      price  sqft_living  sqft_living15  sqft_liv_log  sqft_liv15_log  bdr_10  \\\n",
       "0  245000.0         1180           1340      7.073270        7.200425       0   \n",
       "1  538000.0         2570           1690      7.851661        7.432484       0   \n",
       "2  245000.0          770           2720      6.646391        7.908387       0   \n",
       "3  604000.0         1960           1360      7.580700        7.215240       0   \n",
       "4  510000.0         1680           1800      7.426549        7.495542       0   \n",
       "\n",
       "   bdr_11  bdr_2  bdr_3  bdr_4  ...  grd_11  grd_12  grd_13  grd_3  grd_4  \\\n",
       "0       0      0      1      0  ...       0       0       0      0      0   \n",
       "1       0      0      1      0  ...       0       0       0      0      0   \n",
       "2       0      1      0      0  ...       0       0       0      0      0   \n",
       "3       0      0      0      1  ...       0       0       0      0      0   \n",
       "4       0      0      1      0  ...       0       0       0      0      0   \n",
       "\n",
       "   grd_5  grd_6  grd_7  grd_8  grd_9  \n",
       "0      0      0      1      0      0  \n",
       "1      0      0      1      0      0  \n",
       "2      0      1      0      0      0  \n",
       "3      0      0      1      0      0  \n",
       "4      0      0      0      1      0  \n",
       "\n",
       "[5 rows x 53 columns]"
      ]
     },
     "execution_count": 62,
     "metadata": {},
     "output_type": "execute_result"
    }
   ],
   "source": [
    "df2 = pd.concat([df2, bdr_dummies, bth_dummies, grd_dummies], axis=1)\n",
    "df2.head()"
   ]
  },
  {
   "cell_type": "code",
   "execution_count": 63,
   "id": "ac0112a4",
   "metadata": {},
   "outputs": [
    {
     "data": {
      "text/html": [
       "<div>\n",
       "<style scoped>\n",
       "    .dataframe tbody tr th:only-of-type {\n",
       "        vertical-align: middle;\n",
       "    }\n",
       "\n",
       "    .dataframe tbody tr th {\n",
       "        vertical-align: top;\n",
       "    }\n",
       "\n",
       "    .dataframe thead th {\n",
       "        text-align: right;\n",
       "    }\n",
       "</style>\n",
       "<table border=\"1\" class=\"dataframe\">\n",
       "  <thead>\n",
       "    <tr style=\"text-align: right;\">\n",
       "      <th></th>\n",
       "      <th>sqft_living</th>\n",
       "      <th>sqft_living15</th>\n",
       "      <th>sqft_liv_log</th>\n",
       "      <th>sqft_liv15_log</th>\n",
       "      <th>bdr_10</th>\n",
       "      <th>bdr_11</th>\n",
       "      <th>bdr_2</th>\n",
       "      <th>bdr_3</th>\n",
       "      <th>bdr_4</th>\n",
       "      <th>bdr_5</th>\n",
       "      <th>...</th>\n",
       "      <th>grd_11</th>\n",
       "      <th>grd_12</th>\n",
       "      <th>grd_13</th>\n",
       "      <th>grd_3</th>\n",
       "      <th>grd_4</th>\n",
       "      <th>grd_5</th>\n",
       "      <th>grd_6</th>\n",
       "      <th>grd_7</th>\n",
       "      <th>grd_8</th>\n",
       "      <th>grd_9</th>\n",
       "    </tr>\n",
       "  </thead>\n",
       "  <tbody>\n",
       "    <tr>\n",
       "      <th>0</th>\n",
       "      <td>1180</td>\n",
       "      <td>1340</td>\n",
       "      <td>7.073270</td>\n",
       "      <td>7.200425</td>\n",
       "      <td>0</td>\n",
       "      <td>0</td>\n",
       "      <td>0</td>\n",
       "      <td>1</td>\n",
       "      <td>0</td>\n",
       "      <td>0</td>\n",
       "      <td>...</td>\n",
       "      <td>0</td>\n",
       "      <td>0</td>\n",
       "      <td>0</td>\n",
       "      <td>0</td>\n",
       "      <td>0</td>\n",
       "      <td>0</td>\n",
       "      <td>0</td>\n",
       "      <td>1</td>\n",
       "      <td>0</td>\n",
       "      <td>0</td>\n",
       "    </tr>\n",
       "    <tr>\n",
       "      <th>1</th>\n",
       "      <td>2570</td>\n",
       "      <td>1690</td>\n",
       "      <td>7.851661</td>\n",
       "      <td>7.432484</td>\n",
       "      <td>0</td>\n",
       "      <td>0</td>\n",
       "      <td>0</td>\n",
       "      <td>1</td>\n",
       "      <td>0</td>\n",
       "      <td>0</td>\n",
       "      <td>...</td>\n",
       "      <td>0</td>\n",
       "      <td>0</td>\n",
       "      <td>0</td>\n",
       "      <td>0</td>\n",
       "      <td>0</td>\n",
       "      <td>0</td>\n",
       "      <td>0</td>\n",
       "      <td>1</td>\n",
       "      <td>0</td>\n",
       "      <td>0</td>\n",
       "    </tr>\n",
       "    <tr>\n",
       "      <th>2</th>\n",
       "      <td>770</td>\n",
       "      <td>2720</td>\n",
       "      <td>6.646391</td>\n",
       "      <td>7.908387</td>\n",
       "      <td>0</td>\n",
       "      <td>0</td>\n",
       "      <td>1</td>\n",
       "      <td>0</td>\n",
       "      <td>0</td>\n",
       "      <td>0</td>\n",
       "      <td>...</td>\n",
       "      <td>0</td>\n",
       "      <td>0</td>\n",
       "      <td>0</td>\n",
       "      <td>0</td>\n",
       "      <td>0</td>\n",
       "      <td>0</td>\n",
       "      <td>1</td>\n",
       "      <td>0</td>\n",
       "      <td>0</td>\n",
       "      <td>0</td>\n",
       "    </tr>\n",
       "    <tr>\n",
       "      <th>3</th>\n",
       "      <td>1960</td>\n",
       "      <td>1360</td>\n",
       "      <td>7.580700</td>\n",
       "      <td>7.215240</td>\n",
       "      <td>0</td>\n",
       "      <td>0</td>\n",
       "      <td>0</td>\n",
       "      <td>0</td>\n",
       "      <td>1</td>\n",
       "      <td>0</td>\n",
       "      <td>...</td>\n",
       "      <td>0</td>\n",
       "      <td>0</td>\n",
       "      <td>0</td>\n",
       "      <td>0</td>\n",
       "      <td>0</td>\n",
       "      <td>0</td>\n",
       "      <td>0</td>\n",
       "      <td>1</td>\n",
       "      <td>0</td>\n",
       "      <td>0</td>\n",
       "    </tr>\n",
       "    <tr>\n",
       "      <th>4</th>\n",
       "      <td>1680</td>\n",
       "      <td>1800</td>\n",
       "      <td>7.426549</td>\n",
       "      <td>7.495542</td>\n",
       "      <td>0</td>\n",
       "      <td>0</td>\n",
       "      <td>0</td>\n",
       "      <td>1</td>\n",
       "      <td>0</td>\n",
       "      <td>0</td>\n",
       "      <td>...</td>\n",
       "      <td>0</td>\n",
       "      <td>0</td>\n",
       "      <td>0</td>\n",
       "      <td>0</td>\n",
       "      <td>0</td>\n",
       "      <td>0</td>\n",
       "      <td>0</td>\n",
       "      <td>0</td>\n",
       "      <td>1</td>\n",
       "      <td>0</td>\n",
       "    </tr>\n",
       "  </tbody>\n",
       "</table>\n",
       "<p>5 rows × 52 columns</p>\n",
       "</div>"
      ],
      "text/plain": [
       "   sqft_living  sqft_living15  sqft_liv_log  sqft_liv15_log  bdr_10  bdr_11  \\\n",
       "0         1180           1340      7.073270        7.200425       0       0   \n",
       "1         2570           1690      7.851661        7.432484       0       0   \n",
       "2          770           2720      6.646391        7.908387       0       0   \n",
       "3         1960           1360      7.580700        7.215240       0       0   \n",
       "4         1680           1800      7.426549        7.495542       0       0   \n",
       "\n",
       "   bdr_2  bdr_3  bdr_4  bdr_5  ...  grd_11  grd_12  grd_13  grd_3  grd_4  \\\n",
       "0      0      1      0      0  ...       0       0       0      0      0   \n",
       "1      0      1      0      0  ...       0       0       0      0      0   \n",
       "2      1      0      0      0  ...       0       0       0      0      0   \n",
       "3      0      0      1      0  ...       0       0       0      0      0   \n",
       "4      0      1      0      0  ...       0       0       0      0      0   \n",
       "\n",
       "   grd_5  grd_6  grd_7  grd_8  grd_9  \n",
       "0      0      0      1      0      0  \n",
       "1      0      0      1      0      0  \n",
       "2      0      1      0      0      0  \n",
       "3      0      0      1      0      0  \n",
       "4      0      0      0      1      0  \n",
       "\n",
       "[5 rows x 52 columns]"
      ]
     },
     "execution_count": 63,
     "metadata": {},
     "output_type": "execute_result"
    }
   ],
   "source": [
    "df3 = df2.drop(['price'], axis=1)\n",
    "df3.head()"
   ]
  },
  {
   "cell_type": "code",
   "execution_count": 64,
   "id": "ef42ff93",
   "metadata": {},
   "outputs": [],
   "source": [
    "X1 = df3\n",
    "y1 = df2[['price']]"
   ]
  },
  {
   "cell_type": "code",
   "execution_count": 65,
   "id": "dcb15aaa",
   "metadata": {},
   "outputs": [],
   "source": [
    "X1_train, X1_test, y1_train, y1_test = \\\n",
    "train_test_split(X1, y1, test_size=0.33, random_state=42)"
   ]
  },
  {
   "cell_type": "code",
   "execution_count": 66,
   "id": "8faf90f2",
   "metadata": {
    "scrolled": false
   },
   "outputs": [
    {
     "data": {
      "text/html": [
       "<style>#sk-container-id-4 {color: black;}#sk-container-id-4 pre{padding: 0;}#sk-container-id-4 div.sk-toggleable {background-color: white;}#sk-container-id-4 label.sk-toggleable__label {cursor: pointer;display: block;width: 100%;margin-bottom: 0;padding: 0.3em;box-sizing: border-box;text-align: center;}#sk-container-id-4 label.sk-toggleable__label-arrow:before {content: \"▸\";float: left;margin-right: 0.25em;color: #696969;}#sk-container-id-4 label.sk-toggleable__label-arrow:hover:before {color: black;}#sk-container-id-4 div.sk-estimator:hover label.sk-toggleable__label-arrow:before {color: black;}#sk-container-id-4 div.sk-toggleable__content {max-height: 0;max-width: 0;overflow: hidden;text-align: left;background-color: #f0f8ff;}#sk-container-id-4 div.sk-toggleable__content pre {margin: 0.2em;color: black;border-radius: 0.25em;background-color: #f0f8ff;}#sk-container-id-4 input.sk-toggleable__control:checked~div.sk-toggleable__content {max-height: 200px;max-width: 100%;overflow: auto;}#sk-container-id-4 input.sk-toggleable__control:checked~label.sk-toggleable__label-arrow:before {content: \"▾\";}#sk-container-id-4 div.sk-estimator input.sk-toggleable__control:checked~label.sk-toggleable__label {background-color: #d4ebff;}#sk-container-id-4 div.sk-label input.sk-toggleable__control:checked~label.sk-toggleable__label {background-color: #d4ebff;}#sk-container-id-4 input.sk-hidden--visually {border: 0;clip: rect(1px 1px 1px 1px);clip: rect(1px, 1px, 1px, 1px);height: 1px;margin: -1px;overflow: hidden;padding: 0;position: absolute;width: 1px;}#sk-container-id-4 div.sk-estimator {font-family: monospace;background-color: #f0f8ff;border: 1px dotted black;border-radius: 0.25em;box-sizing: border-box;margin-bottom: 0.5em;}#sk-container-id-4 div.sk-estimator:hover {background-color: #d4ebff;}#sk-container-id-4 div.sk-parallel-item::after {content: \"\";width: 100%;border-bottom: 1px solid gray;flex-grow: 1;}#sk-container-id-4 div.sk-label:hover label.sk-toggleable__label {background-color: #d4ebff;}#sk-container-id-4 div.sk-serial::before {content: \"\";position: absolute;border-left: 1px solid gray;box-sizing: border-box;top: 0;bottom: 0;left: 50%;z-index: 0;}#sk-container-id-4 div.sk-serial {display: flex;flex-direction: column;align-items: center;background-color: white;padding-right: 0.2em;padding-left: 0.2em;position: relative;}#sk-container-id-4 div.sk-item {position: relative;z-index: 1;}#sk-container-id-4 div.sk-parallel {display: flex;align-items: stretch;justify-content: center;background-color: white;position: relative;}#sk-container-id-4 div.sk-item::before, #sk-container-id-4 div.sk-parallel-item::before {content: \"\";position: absolute;border-left: 1px solid gray;box-sizing: border-box;top: 0;bottom: 0;left: 50%;z-index: -1;}#sk-container-id-4 div.sk-parallel-item {display: flex;flex-direction: column;z-index: 1;position: relative;background-color: white;}#sk-container-id-4 div.sk-parallel-item:first-child::after {align-self: flex-end;width: 50%;}#sk-container-id-4 div.sk-parallel-item:last-child::after {align-self: flex-start;width: 50%;}#sk-container-id-4 div.sk-parallel-item:only-child::after {width: 0;}#sk-container-id-4 div.sk-dashed-wrapped {border: 1px dashed gray;margin: 0 0.4em 0.5em 0.4em;box-sizing: border-box;padding-bottom: 0.4em;background-color: white;}#sk-container-id-4 div.sk-label label {font-family: monospace;font-weight: bold;display: inline-block;line-height: 1.2em;}#sk-container-id-4 div.sk-label-container {text-align: center;}#sk-container-id-4 div.sk-container {/* jupyter's `normalize.less` sets `[hidden] { display: none; }` but bootstrap.min.css set `[hidden] { display: none !important; }` so we also need the `!important` here to be able to override the default hidden behavior on the sphinx rendered scikit-learn.org. See: https://github.com/scikit-learn/scikit-learn/issues/21755 */display: inline-block !important;position: relative;}#sk-container-id-4 div.sk-text-repr-fallback {display: none;}</style><div id=\"sk-container-id-4\" class=\"sk-top-container\"><div class=\"sk-text-repr-fallback\"><pre>LinearRegression()</pre><b>In a Jupyter environment, please rerun this cell to show the HTML representation or trust the notebook. <br />On GitHub, the HTML representation is unable to render, please try loading this page with nbviewer.org.</b></div><div class=\"sk-container\" hidden><div class=\"sk-item\"><div class=\"sk-estimator sk-toggleable\"><input class=\"sk-toggleable__control sk-hidden--visually\" id=\"sk-estimator-id-4\" type=\"checkbox\" checked><label for=\"sk-estimator-id-4\" class=\"sk-toggleable__label sk-toggleable__label-arrow\">LinearRegression</label><div class=\"sk-toggleable__content\"><pre>LinearRegression()</pre></div></div></div></div></div>"
      ],
      "text/plain": [
       "LinearRegression()"
      ]
     },
     "execution_count": 66,
     "metadata": {},
     "output_type": "execute_result"
    }
   ],
   "source": [
    "lm1 = LinearRegression()\n",
    "lm1.fit(X1_train, y1_train)"
   ]
  },
  {
   "cell_type": "code",
   "execution_count": 67,
   "id": "3182c23e",
   "metadata": {},
   "outputs": [],
   "source": [
    "X1_train1 = sm.add_constant(X1_train)\n",
    "sm_ols2 = linear_model.OLS(y1_train, X1_train1) \n",
    "sm_model2 = sm_ols2.fit()"
   ]
  },
  {
   "cell_type": "code",
   "execution_count": 69,
   "id": "eb3730c6",
   "metadata": {},
   "outputs": [
    {
     "name": "stdout",
     "output_type": "stream",
     "text": [
      "Adjusted R-squared: 0.563307459425719\n"
     ]
    }
   ],
   "source": [
    "# Capture the Adjusted R-squared\n",
    "adjusted_r_squared = sm_model2.rsquared_adj\n",
    "print(f'Adjusted R-squared: {adjusted_r_squared}')"
   ]
  },
  {
   "cell_type": "markdown",
   "id": "3db39554",
   "metadata": {},
   "source": [
    "<h5>This R-squared from the transformed data is statistically significant. It's closer to the raw R-squared. So that means the transformed data improved the model more than would be expected by chance compared to the scaled data</h5><br>"
   ]
  },
  {
   "cell_type": "code",
   "execution_count": 68,
   "id": "1f1c0c1c",
   "metadata": {
    "scrolled": true
   },
   "outputs": [
    {
     "data": {
      "text/html": [
       "<table class=\"simpletable\">\n",
       "<caption>OLS Regression Results</caption>\n",
       "<tr>\n",
       "  <th>Dep. Variable:</th>          <td>price</td>      <th>  R-squared:         </th>  <td>   0.565</td>  \n",
       "</tr>\n",
       "<tr>\n",
       "  <th>Model:</th>                   <td>OLS</td>       <th>  Adj. R-squared:    </th>  <td>   0.563</td>  \n",
       "</tr>\n",
       "<tr>\n",
       "  <th>Method:</th>             <td>Least Squares</td>  <th>  F-statistic:       </th>  <td>   381.9</td>  \n",
       "</tr>\n",
       "<tr>\n",
       "  <th>Date:</th>             <td>Tue, 05 Dec 2023</td> <th>  Prob (F-statistic):</th>   <td>  0.00</td>   \n",
       "</tr>\n",
       "<tr>\n",
       "  <th>Time:</th>                 <td>01:12:45</td>     <th>  Log-Likelihood:    </th> <td>-1.9169e+05</td>\n",
       "</tr>\n",
       "<tr>\n",
       "  <th>No. Observations:</th>      <td> 14469</td>      <th>  AIC:               </th>  <td>3.835e+05</td> \n",
       "</tr>\n",
       "<tr>\n",
       "  <th>Df Residuals:</th>          <td> 14419</td>      <th>  BIC:               </th>  <td>3.839e+05</td> \n",
       "</tr>\n",
       "<tr>\n",
       "  <th>Df Model:</th>              <td>    49</td>      <th>                     </th>      <td> </td>     \n",
       "</tr>\n",
       "<tr>\n",
       "  <th>Covariance Type:</th>      <td>nonrobust</td>    <th>                     </th>      <td> </td>     \n",
       "</tr>\n",
       "</table>\n",
       "<table class=\"simpletable\">\n",
       "<tr>\n",
       "         <td></td>           <th>coef</th>     <th>std err</th>      <th>t</th>      <th>P>|t|</th>  <th>[0.025</th>    <th>0.975]</th>  \n",
       "</tr>\n",
       "<tr>\n",
       "  <th>const</th>          <td>-8.862e+05</td> <td> 1.59e+05</td> <td>   -5.577</td> <td> 0.000</td> <td> -1.2e+06</td> <td>-5.75e+05</td>\n",
       "</tr>\n",
       "<tr>\n",
       "  <th>sqft_living</th>    <td>   13.3332</td> <td>    7.342</td> <td>    1.816</td> <td> 0.069</td> <td>   -1.059</td> <td>   27.725</td>\n",
       "</tr>\n",
       "<tr>\n",
       "  <th>sqft_living15</th>  <td>    7.7951</td> <td>    9.953</td> <td>    0.783</td> <td> 0.434</td> <td>  -11.715</td> <td>   27.305</td>\n",
       "</tr>\n",
       "<tr>\n",
       "  <th>sqft_liv_log</th>   <td> 1.448e+05</td> <td> 1.55e+04</td> <td>    9.325</td> <td> 0.000</td> <td> 1.14e+05</td> <td> 1.75e+05</td>\n",
       "</tr>\n",
       "<tr>\n",
       "  <th>sqft_liv15_log</th> <td> 6.239e+04</td> <td> 2.01e+04</td> <td>    3.102</td> <td> 0.002</td> <td>  2.3e+04</td> <td> 1.02e+05</td>\n",
       "</tr>\n",
       "<tr>\n",
       "  <th>bdr_10</th>         <td> 9361.4668</td> <td> 1.01e+05</td> <td>    0.093</td> <td> 0.926</td> <td>-1.89e+05</td> <td> 2.07e+05</td>\n",
       "</tr>\n",
       "<tr>\n",
       "  <th>bdr_11</th>         <td>-5.253e+04</td> <td> 1.38e+05</td> <td>   -0.380</td> <td> 0.704</td> <td>-3.24e+05</td> <td> 2.19e+05</td>\n",
       "</tr>\n",
       "<tr>\n",
       "  <th>bdr_2</th>          <td>-1.916e+04</td> <td> 1.33e+04</td> <td>   -1.436</td> <td> 0.151</td> <td>-4.53e+04</td> <td> 6992.706</td>\n",
       "</tr>\n",
       "<tr>\n",
       "  <th>bdr_3</th>          <td>-7.182e+04</td> <td> 1.35e+04</td> <td>   -5.311</td> <td> 0.000</td> <td>-9.83e+04</td> <td>-4.53e+04</td>\n",
       "</tr>\n",
       "<tr>\n",
       "  <th>bdr_4</th>          <td>-7.367e+04</td> <td> 1.38e+04</td> <td>   -5.322</td> <td> 0.000</td> <td>-1.01e+05</td> <td>-4.65e+04</td>\n",
       "</tr>\n",
       "<tr>\n",
       "  <th>bdr_5</th>          <td>-7.101e+04</td> <td> 1.44e+04</td> <td>   -4.917</td> <td> 0.000</td> <td>-9.93e+04</td> <td>-4.27e+04</td>\n",
       "</tr>\n",
       "<tr>\n",
       "  <th>bdr_6</th>          <td>-4.266e+04</td> <td> 1.75e+04</td> <td>   -2.441</td> <td> 0.015</td> <td>-7.69e+04</td> <td>-8402.694</td>\n",
       "</tr>\n",
       "<tr>\n",
       "  <th>bdr_7</th>          <td>-5.517e+04</td> <td> 2.88e+04</td> <td>   -1.916</td> <td> 0.055</td> <td>-1.12e+05</td> <td> 1262.429</td>\n",
       "</tr>\n",
       "<tr>\n",
       "  <th>bdr_8</th>          <td>-1.996e+04</td> <td>  5.1e+04</td> <td>   -0.391</td> <td> 0.696</td> <td> -1.2e+05</td> <td>    8e+04</td>\n",
       "</tr>\n",
       "<tr>\n",
       "  <th>bdr_9</th>          <td> 1.279e+05</td> <td> 7.08e+04</td> <td>    1.808</td> <td> 0.071</td> <td>-1.08e+04</td> <td> 2.67e+05</td>\n",
       "</tr>\n",
       "<tr>\n",
       "  <th>bth_0.75</th>       <td> 5.245e+04</td> <td> 8.19e+04</td> <td>    0.640</td> <td> 0.522</td> <td>-1.08e+05</td> <td> 2.13e+05</td>\n",
       "</tr>\n",
       "<tr>\n",
       "  <th>bth_1.0</th>        <td> 5.728e+04</td> <td> 7.96e+04</td> <td>    0.720</td> <td> 0.472</td> <td>-9.87e+04</td> <td> 2.13e+05</td>\n",
       "</tr>\n",
       "<tr>\n",
       "  <th>bth_1.25</th>       <td> 1.833e+05</td> <td> 1.12e+05</td> <td>    1.630</td> <td> 0.103</td> <td>-3.71e+04</td> <td> 4.04e+05</td>\n",
       "</tr>\n",
       "<tr>\n",
       "  <th>bth_1.5</th>        <td> 3.153e+04</td> <td> 7.98e+04</td> <td>    0.395</td> <td> 0.693</td> <td>-1.25e+05</td> <td> 1.88e+05</td>\n",
       "</tr>\n",
       "<tr>\n",
       "  <th>bth_1.75</th>       <td> 3.821e+04</td> <td> 7.97e+04</td> <td>    0.479</td> <td> 0.632</td> <td>-1.18e+05</td> <td> 1.94e+05</td>\n",
       "</tr>\n",
       "<tr>\n",
       "  <th>bth_2.0</th>        <td> 4.197e+04</td> <td> 7.97e+04</td> <td>    0.526</td> <td> 0.599</td> <td>-1.14e+05</td> <td> 1.98e+05</td>\n",
       "</tr>\n",
       "<tr>\n",
       "  <th>bth_2.25</th>       <td> 1.483e+04</td> <td> 7.98e+04</td> <td>    0.186</td> <td> 0.853</td> <td>-1.42e+05</td> <td> 1.71e+05</td>\n",
       "</tr>\n",
       "<tr>\n",
       "  <th>bth_2.5</th>        <td>-1.909e+04</td> <td> 7.97e+04</td> <td>   -0.239</td> <td> 0.811</td> <td>-1.75e+05</td> <td> 1.37e+05</td>\n",
       "</tr>\n",
       "<tr>\n",
       "  <th>bth_2.75</th>       <td> 3.899e+04</td> <td> 7.99e+04</td> <td>    0.488</td> <td> 0.626</td> <td>-1.18e+05</td> <td> 1.96e+05</td>\n",
       "</tr>\n",
       "<tr>\n",
       "  <th>bth_3.0</th>        <td> 3.695e+04</td> <td>    8e+04</td> <td>    0.462</td> <td> 0.644</td> <td> -1.2e+05</td> <td> 1.94e+05</td>\n",
       "</tr>\n",
       "<tr>\n",
       "  <th>bth_3.25</th>       <td> 5.884e+04</td> <td> 8.01e+04</td> <td>    0.735</td> <td> 0.462</td> <td>-9.81e+04</td> <td> 2.16e+05</td>\n",
       "</tr>\n",
       "<tr>\n",
       "  <th>bth_3.5</th>        <td> 4.391e+04</td> <td>    8e+04</td> <td>    0.549</td> <td> 0.583</td> <td>-1.13e+05</td> <td> 2.01e+05</td>\n",
       "</tr>\n",
       "<tr>\n",
       "  <th>bth_3.75</th>       <td> 6.834e+04</td> <td>  8.1e+04</td> <td>    0.844</td> <td> 0.399</td> <td>-9.04e+04</td> <td> 2.27e+05</td>\n",
       "</tr>\n",
       "<tr>\n",
       "  <th>bth_4.0</th>        <td> 5.282e+04</td> <td>  8.1e+04</td> <td>    0.652</td> <td> 0.514</td> <td>-1.06e+05</td> <td> 2.12e+05</td>\n",
       "</tr>\n",
       "<tr>\n",
       "  <th>bth_4.25</th>       <td> 3.476e+04</td> <td> 8.19e+04</td> <td>    0.424</td> <td> 0.671</td> <td>-1.26e+05</td> <td> 1.95e+05</td>\n",
       "</tr>\n",
       "<tr>\n",
       "  <th>bth_4.5</th>        <td> 2.065e+04</td> <td> 8.15e+04</td> <td>    0.253</td> <td> 0.800</td> <td>-1.39e+05</td> <td>  1.8e+05</td>\n",
       "</tr>\n",
       "<tr>\n",
       "  <th>bth_4.75</th>       <td>-6987.9398</td> <td> 8.65e+04</td> <td>   -0.081</td> <td> 0.936</td> <td>-1.77e+05</td> <td> 1.63e+05</td>\n",
       "</tr>\n",
       "<tr>\n",
       "  <th>bth_5.0</th>        <td> -1.79e+04</td> <td> 8.88e+04</td> <td>   -0.202</td> <td> 0.840</td> <td>-1.92e+05</td> <td> 1.56e+05</td>\n",
       "</tr>\n",
       "<tr>\n",
       "  <th>bth_5.25</th>       <td> 1.793e+04</td> <td> 9.29e+04</td> <td>    0.193</td> <td> 0.847</td> <td>-1.64e+05</td> <td>    2e+05</td>\n",
       "</tr>\n",
       "<tr>\n",
       "  <th>bth_5.5</th>        <td> -6.34e+04</td> <td> 1.05e+05</td> <td>   -0.606</td> <td> 0.545</td> <td>-2.68e+05</td> <td> 1.42e+05</td>\n",
       "</tr>\n",
       "<tr>\n",
       "  <th>bth_5.75</th>       <td>-4.789e+04</td> <td> 1.31e+05</td> <td>   -0.365</td> <td> 0.715</td> <td>-3.05e+05</td> <td> 2.09e+05</td>\n",
       "</tr>\n",
       "<tr>\n",
       "  <th>bth_6.0</th>        <td>-3.142e+04</td> <td> 1.03e+05</td> <td>   -0.305</td> <td> 0.760</td> <td>-2.33e+05</td> <td> 1.71e+05</td>\n",
       "</tr>\n",
       "<tr>\n",
       "  <th>bth_6.25</th>       <td>-1.708e-11</td> <td> 9.26e-11</td> <td>   -0.184</td> <td> 0.854</td> <td>-1.99e-10</td> <td> 1.64e-10</td>\n",
       "</tr>\n",
       "<tr>\n",
       "  <th>bth_6.5</th>        <td>-4.329e+04</td> <td>  1.6e+05</td> <td>   -0.271</td> <td> 0.787</td> <td>-3.57e+05</td> <td>  2.7e+05</td>\n",
       "</tr>\n",
       "<tr>\n",
       "  <th>bth_6.75</th>       <td> -1.29e+05</td> <td> 1.29e+05</td> <td>   -1.003</td> <td> 0.316</td> <td>-3.81e+05</td> <td> 1.23e+05</td>\n",
       "</tr>\n",
       "<tr>\n",
       "  <th>bth_7.5</th>        <td> 3.842e-11</td> <td> 4.34e-11</td> <td>    0.886</td> <td> 0.376</td> <td>-4.66e-11</td> <td> 1.23e-10</td>\n",
       "</tr>\n",
       "<tr>\n",
       "  <th>bth_7.75</th>       <td> -5.36e-11</td> <td> 5.47e-11</td> <td>   -0.981</td> <td> 0.327</td> <td>-1.61e-10</td> <td> 5.36e-11</td>\n",
       "</tr>\n",
       "<tr>\n",
       "  <th>bth_8.0</th>        <td>-2.291e+05</td> <td> 1.38e+05</td> <td>   -1.665</td> <td> 0.096</td> <td>-4.99e+05</td> <td> 4.07e+04</td>\n",
       "</tr>\n",
       "<tr>\n",
       "  <th>grd_11</th>         <td>-4824.9311</td> <td> 1.02e+04</td> <td>   -0.473</td> <td> 0.636</td> <td>-2.48e+04</td> <td> 1.52e+04</td>\n",
       "</tr>\n",
       "<tr>\n",
       "  <th>grd_12</th>         <td>-4.825e+04</td> <td> 2.04e+04</td> <td>   -2.362</td> <td> 0.018</td> <td>-8.83e+04</td> <td>-8203.065</td>\n",
       "</tr>\n",
       "<tr>\n",
       "  <th>grd_13</th>         <td>  -4.4e+04</td> <td> 6.14e+04</td> <td>   -0.717</td> <td> 0.473</td> <td>-1.64e+05</td> <td> 7.63e+04</td>\n",
       "</tr>\n",
       "<tr>\n",
       "  <th>grd_3</th>          <td>-2.767e+05</td> <td>  1.4e+05</td> <td>   -1.983</td> <td> 0.047</td> <td> -5.5e+05</td> <td>-3242.874</td>\n",
       "</tr>\n",
       "<tr>\n",
       "  <th>grd_4</th>          <td>-3.045e+05</td> <td> 3.72e+04</td> <td>   -8.176</td> <td> 0.000</td> <td>-3.77e+05</td> <td>-2.31e+05</td>\n",
       "</tr>\n",
       "<tr>\n",
       "  <th>grd_5</th>          <td>-3.064e+05</td> <td> 1.34e+04</td> <td>  -22.907</td> <td> 0.000</td> <td>-3.33e+05</td> <td> -2.8e+05</td>\n",
       "</tr>\n",
       "<tr>\n",
       "  <th>grd_6</th>          <td>-2.918e+05</td> <td> 8384.691</td> <td>  -34.804</td> <td> 0.000</td> <td>-3.08e+05</td> <td>-2.75e+05</td>\n",
       "</tr>\n",
       "<tr>\n",
       "  <th>grd_7</th>          <td>-2.418e+05</td> <td> 7096.240</td> <td>  -34.075</td> <td> 0.000</td> <td>-2.56e+05</td> <td>-2.28e+05</td>\n",
       "</tr>\n",
       "<tr>\n",
       "  <th>grd_8</th>          <td>-1.606e+05</td> <td> 6627.605</td> <td>  -24.231</td> <td> 0.000</td> <td>-1.74e+05</td> <td>-1.48e+05</td>\n",
       "</tr>\n",
       "<tr>\n",
       "  <th>grd_9</th>          <td>-5.077e+04</td> <td> 6343.460</td> <td>   -8.003</td> <td> 0.000</td> <td>-6.32e+04</td> <td>-3.83e+04</td>\n",
       "</tr>\n",
       "</table>\n",
       "<table class=\"simpletable\">\n",
       "<tr>\n",
       "  <th>Omnibus:</th>       <td>445.540</td> <th>  Durbin-Watson:     </th> <td>   2.003</td> \n",
       "</tr>\n",
       "<tr>\n",
       "  <th>Prob(Omnibus):</th> <td> 0.000</td>  <th>  Jarque-Bera (JB):  </th> <td> 488.844</td> \n",
       "</tr>\n",
       "<tr>\n",
       "  <th>Skew:</th>          <td> 0.434</td>  <th>  Prob(JB):          </th> <td>7.06e-107</td>\n",
       "</tr>\n",
       "<tr>\n",
       "  <th>Kurtosis:</th>      <td> 3.238</td>  <th>  Cond. No.          </th> <td>1.07e+16</td> \n",
       "</tr>\n",
       "</table><br/><br/>Notes:<br/>[1] Standard Errors assume that the covariance matrix of the errors is correctly specified.<br/>[2] The smallest eigenvalue is 1.2e-21. This might indicate that there are<br/>strong multicollinearity problems or that the design matrix is singular."
      ],
      "text/latex": [
       "\\begin{center}\n",
       "\\begin{tabular}{lclc}\n",
       "\\toprule\n",
       "\\textbf{Dep. Variable:}    &      price       & \\textbf{  R-squared:         } &      0.565   \\\\\n",
       "\\textbf{Model:}            &       OLS        & \\textbf{  Adj. R-squared:    } &      0.563   \\\\\n",
       "\\textbf{Method:}           &  Least Squares   & \\textbf{  F-statistic:       } &      381.9   \\\\\n",
       "\\textbf{Date:}             & Tue, 05 Dec 2023 & \\textbf{  Prob (F-statistic):} &      0.00    \\\\\n",
       "\\textbf{Time:}             &     01:12:45     & \\textbf{  Log-Likelihood:    } & -1.9169e+05  \\\\\n",
       "\\textbf{No. Observations:} &       14469      & \\textbf{  AIC:               } &  3.835e+05   \\\\\n",
       "\\textbf{Df Residuals:}     &       14419      & \\textbf{  BIC:               } &  3.839e+05   \\\\\n",
       "\\textbf{Df Model:}         &          49      & \\textbf{                     } &              \\\\\n",
       "\\textbf{Covariance Type:}  &    nonrobust     & \\textbf{                     } &              \\\\\n",
       "\\bottomrule\n",
       "\\end{tabular}\n",
       "\\begin{tabular}{lcccccc}\n",
       "                          & \\textbf{coef} & \\textbf{std err} & \\textbf{t} & \\textbf{P$> |$t$|$} & \\textbf{[0.025} & \\textbf{0.975]}  \\\\\n",
       "\\midrule\n",
       "\\textbf{const}            &   -8.862e+05  &     1.59e+05     &    -5.577  &         0.000        &     -1.2e+06    &    -5.75e+05     \\\\\n",
       "\\textbf{sqft\\_living}     &      13.3332  &        7.342     &     1.816  &         0.069        &       -1.059    &       27.725     \\\\\n",
       "\\textbf{sqft\\_living15}   &       7.7951  &        9.953     &     0.783  &         0.434        &      -11.715    &       27.305     \\\\\n",
       "\\textbf{sqft\\_liv\\_log}   &    1.448e+05  &     1.55e+04     &     9.325  &         0.000        &     1.14e+05    &     1.75e+05     \\\\\n",
       "\\textbf{sqft\\_liv15\\_log} &    6.239e+04  &     2.01e+04     &     3.102  &         0.002        &      2.3e+04    &     1.02e+05     \\\\\n",
       "\\textbf{bdr\\_10}          &    9361.4668  &     1.01e+05     &     0.093  &         0.926        &    -1.89e+05    &     2.07e+05     \\\\\n",
       "\\textbf{bdr\\_11}          &   -5.253e+04  &     1.38e+05     &    -0.380  &         0.704        &    -3.24e+05    &     2.19e+05     \\\\\n",
       "\\textbf{bdr\\_2}           &   -1.916e+04  &     1.33e+04     &    -1.436  &         0.151        &    -4.53e+04    &     6992.706     \\\\\n",
       "\\textbf{bdr\\_3}           &   -7.182e+04  &     1.35e+04     &    -5.311  &         0.000        &    -9.83e+04    &    -4.53e+04     \\\\\n",
       "\\textbf{bdr\\_4}           &   -7.367e+04  &     1.38e+04     &    -5.322  &         0.000        &    -1.01e+05    &    -4.65e+04     \\\\\n",
       "\\textbf{bdr\\_5}           &   -7.101e+04  &     1.44e+04     &    -4.917  &         0.000        &    -9.93e+04    &    -4.27e+04     \\\\\n",
       "\\textbf{bdr\\_6}           &   -4.266e+04  &     1.75e+04     &    -2.441  &         0.015        &    -7.69e+04    &    -8402.694     \\\\\n",
       "\\textbf{bdr\\_7}           &   -5.517e+04  &     2.88e+04     &    -1.916  &         0.055        &    -1.12e+05    &     1262.429     \\\\\n",
       "\\textbf{bdr\\_8}           &   -1.996e+04  &      5.1e+04     &    -0.391  &         0.696        &     -1.2e+05    &        8e+04     \\\\\n",
       "\\textbf{bdr\\_9}           &    1.279e+05  &     7.08e+04     &     1.808  &         0.071        &    -1.08e+04    &     2.67e+05     \\\\\n",
       "\\textbf{bth\\_0.75}        &    5.245e+04  &     8.19e+04     &     0.640  &         0.522        &    -1.08e+05    &     2.13e+05     \\\\\n",
       "\\textbf{bth\\_1.0}         &    5.728e+04  &     7.96e+04     &     0.720  &         0.472        &    -9.87e+04    &     2.13e+05     \\\\\n",
       "\\textbf{bth\\_1.25}        &    1.833e+05  &     1.12e+05     &     1.630  &         0.103        &    -3.71e+04    &     4.04e+05     \\\\\n",
       "\\textbf{bth\\_1.5}         &    3.153e+04  &     7.98e+04     &     0.395  &         0.693        &    -1.25e+05    &     1.88e+05     \\\\\n",
       "\\textbf{bth\\_1.75}        &    3.821e+04  &     7.97e+04     &     0.479  &         0.632        &    -1.18e+05    &     1.94e+05     \\\\\n",
       "\\textbf{bth\\_2.0}         &    4.197e+04  &     7.97e+04     &     0.526  &         0.599        &    -1.14e+05    &     1.98e+05     \\\\\n",
       "\\textbf{bth\\_2.25}        &    1.483e+04  &     7.98e+04     &     0.186  &         0.853        &    -1.42e+05    &     1.71e+05     \\\\\n",
       "\\textbf{bth\\_2.5}         &   -1.909e+04  &     7.97e+04     &    -0.239  &         0.811        &    -1.75e+05    &     1.37e+05     \\\\\n",
       "\\textbf{bth\\_2.75}        &    3.899e+04  &     7.99e+04     &     0.488  &         0.626        &    -1.18e+05    &     1.96e+05     \\\\\n",
       "\\textbf{bth\\_3.0}         &    3.695e+04  &        8e+04     &     0.462  &         0.644        &     -1.2e+05    &     1.94e+05     \\\\\n",
       "\\textbf{bth\\_3.25}        &    5.884e+04  &     8.01e+04     &     0.735  &         0.462        &    -9.81e+04    &     2.16e+05     \\\\\n",
       "\\textbf{bth\\_3.5}         &    4.391e+04  &        8e+04     &     0.549  &         0.583        &    -1.13e+05    &     2.01e+05     \\\\\n",
       "\\textbf{bth\\_3.75}        &    6.834e+04  &      8.1e+04     &     0.844  &         0.399        &    -9.04e+04    &     2.27e+05     \\\\\n",
       "\\textbf{bth\\_4.0}         &    5.282e+04  &      8.1e+04     &     0.652  &         0.514        &    -1.06e+05    &     2.12e+05     \\\\\n",
       "\\textbf{bth\\_4.25}        &    3.476e+04  &     8.19e+04     &     0.424  &         0.671        &    -1.26e+05    &     1.95e+05     \\\\\n",
       "\\textbf{bth\\_4.5}         &    2.065e+04  &     8.15e+04     &     0.253  &         0.800        &    -1.39e+05    &      1.8e+05     \\\\\n",
       "\\textbf{bth\\_4.75}        &   -6987.9398  &     8.65e+04     &    -0.081  &         0.936        &    -1.77e+05    &     1.63e+05     \\\\\n",
       "\\textbf{bth\\_5.0}         &    -1.79e+04  &     8.88e+04     &    -0.202  &         0.840        &    -1.92e+05    &     1.56e+05     \\\\\n",
       "\\textbf{bth\\_5.25}        &    1.793e+04  &     9.29e+04     &     0.193  &         0.847        &    -1.64e+05    &        2e+05     \\\\\n",
       "\\textbf{bth\\_5.5}         &    -6.34e+04  &     1.05e+05     &    -0.606  &         0.545        &    -2.68e+05    &     1.42e+05     \\\\\n",
       "\\textbf{bth\\_5.75}        &   -4.789e+04  &     1.31e+05     &    -0.365  &         0.715        &    -3.05e+05    &     2.09e+05     \\\\\n",
       "\\textbf{bth\\_6.0}         &   -3.142e+04  &     1.03e+05     &    -0.305  &         0.760        &    -2.33e+05    &     1.71e+05     \\\\\n",
       "\\textbf{bth\\_6.25}        &   -1.708e-11  &     9.26e-11     &    -0.184  &         0.854        &    -1.99e-10    &     1.64e-10     \\\\\n",
       "\\textbf{bth\\_6.5}         &   -4.329e+04  &      1.6e+05     &    -0.271  &         0.787        &    -3.57e+05    &      2.7e+05     \\\\\n",
       "\\textbf{bth\\_6.75}        &    -1.29e+05  &     1.29e+05     &    -1.003  &         0.316        &    -3.81e+05    &     1.23e+05     \\\\\n",
       "\\textbf{bth\\_7.5}         &    3.842e-11  &     4.34e-11     &     0.886  &         0.376        &    -4.66e-11    &     1.23e-10     \\\\\n",
       "\\textbf{bth\\_7.75}        &    -5.36e-11  &     5.47e-11     &    -0.981  &         0.327        &    -1.61e-10    &     5.36e-11     \\\\\n",
       "\\textbf{bth\\_8.0}         &   -2.291e+05  &     1.38e+05     &    -1.665  &         0.096        &    -4.99e+05    &     4.07e+04     \\\\\n",
       "\\textbf{grd\\_11}          &   -4824.9311  &     1.02e+04     &    -0.473  &         0.636        &    -2.48e+04    &     1.52e+04     \\\\\n",
       "\\textbf{grd\\_12}          &   -4.825e+04  &     2.04e+04     &    -2.362  &         0.018        &    -8.83e+04    &    -8203.065     \\\\\n",
       "\\textbf{grd\\_13}          &     -4.4e+04  &     6.14e+04     &    -0.717  &         0.473        &    -1.64e+05    &     7.63e+04     \\\\\n",
       "\\textbf{grd\\_3}           &   -2.767e+05  &      1.4e+05     &    -1.983  &         0.047        &     -5.5e+05    &    -3242.874     \\\\\n",
       "\\textbf{grd\\_4}           &   -3.045e+05  &     3.72e+04     &    -8.176  &         0.000        &    -3.77e+05    &    -2.31e+05     \\\\\n",
       "\\textbf{grd\\_5}           &   -3.064e+05  &     1.34e+04     &   -22.907  &         0.000        &    -3.33e+05    &     -2.8e+05     \\\\\n",
       "\\textbf{grd\\_6}           &   -2.918e+05  &     8384.691     &   -34.804  &         0.000        &    -3.08e+05    &    -2.75e+05     \\\\\n",
       "\\textbf{grd\\_7}           &   -2.418e+05  &     7096.240     &   -34.075  &         0.000        &    -2.56e+05    &    -2.28e+05     \\\\\n",
       "\\textbf{grd\\_8}           &   -1.606e+05  &     6627.605     &   -24.231  &         0.000        &    -1.74e+05    &    -1.48e+05     \\\\\n",
       "\\textbf{grd\\_9}           &   -5.077e+04  &     6343.460     &    -8.003  &         0.000        &    -6.32e+04    &    -3.83e+04     \\\\\n",
       "\\bottomrule\n",
       "\\end{tabular}\n",
       "\\begin{tabular}{lclc}\n",
       "\\textbf{Omnibus:}       & 445.540 & \\textbf{  Durbin-Watson:     } &     2.003  \\\\\n",
       "\\textbf{Prob(Omnibus):} &   0.000 & \\textbf{  Jarque-Bera (JB):  } &   488.844  \\\\\n",
       "\\textbf{Skew:}          &   0.434 & \\textbf{  Prob(JB):          } & 7.06e-107  \\\\\n",
       "\\textbf{Kurtosis:}      &   3.238 & \\textbf{  Cond. No.          } &  1.07e+16  \\\\\n",
       "\\bottomrule\n",
       "\\end{tabular}\n",
       "%\\caption{OLS Regression Results}\n",
       "\\end{center}\n",
       "\n",
       "Notes: \\newline\n",
       " [1] Standard Errors assume that the covariance matrix of the errors is correctly specified. \\newline\n",
       " [2] The smallest eigenvalue is 1.2e-21. This might indicate that there are \\newline\n",
       " strong multicollinearity problems or that the design matrix is singular."
      ],
      "text/plain": [
       "<class 'statsmodels.iolib.summary.Summary'>\n",
       "\"\"\"\n",
       "                            OLS Regression Results                            \n",
       "==============================================================================\n",
       "Dep. Variable:                  price   R-squared:                       0.565\n",
       "Model:                            OLS   Adj. R-squared:                  0.563\n",
       "Method:                 Least Squares   F-statistic:                     381.9\n",
       "Date:                Tue, 05 Dec 2023   Prob (F-statistic):               0.00\n",
       "Time:                        01:12:45   Log-Likelihood:            -1.9169e+05\n",
       "No. Observations:               14469   AIC:                         3.835e+05\n",
       "Df Residuals:                   14419   BIC:                         3.839e+05\n",
       "Df Model:                          49                                         \n",
       "Covariance Type:            nonrobust                                         \n",
       "==================================================================================\n",
       "                     coef    std err          t      P>|t|      [0.025      0.975]\n",
       "----------------------------------------------------------------------------------\n",
       "const          -8.862e+05   1.59e+05     -5.577      0.000    -1.2e+06   -5.75e+05\n",
       "sqft_living       13.3332      7.342      1.816      0.069      -1.059      27.725\n",
       "sqft_living15      7.7951      9.953      0.783      0.434     -11.715      27.305\n",
       "sqft_liv_log    1.448e+05   1.55e+04      9.325      0.000    1.14e+05    1.75e+05\n",
       "sqft_liv15_log  6.239e+04   2.01e+04      3.102      0.002     2.3e+04    1.02e+05\n",
       "bdr_10          9361.4668   1.01e+05      0.093      0.926   -1.89e+05    2.07e+05\n",
       "bdr_11         -5.253e+04   1.38e+05     -0.380      0.704   -3.24e+05    2.19e+05\n",
       "bdr_2          -1.916e+04   1.33e+04     -1.436      0.151   -4.53e+04    6992.706\n",
       "bdr_3          -7.182e+04   1.35e+04     -5.311      0.000   -9.83e+04   -4.53e+04\n",
       "bdr_4          -7.367e+04   1.38e+04     -5.322      0.000   -1.01e+05   -4.65e+04\n",
       "bdr_5          -7.101e+04   1.44e+04     -4.917      0.000   -9.93e+04   -4.27e+04\n",
       "bdr_6          -4.266e+04   1.75e+04     -2.441      0.015   -7.69e+04   -8402.694\n",
       "bdr_7          -5.517e+04   2.88e+04     -1.916      0.055   -1.12e+05    1262.429\n",
       "bdr_8          -1.996e+04    5.1e+04     -0.391      0.696    -1.2e+05       8e+04\n",
       "bdr_9           1.279e+05   7.08e+04      1.808      0.071   -1.08e+04    2.67e+05\n",
       "bth_0.75        5.245e+04   8.19e+04      0.640      0.522   -1.08e+05    2.13e+05\n",
       "bth_1.0         5.728e+04   7.96e+04      0.720      0.472   -9.87e+04    2.13e+05\n",
       "bth_1.25        1.833e+05   1.12e+05      1.630      0.103   -3.71e+04    4.04e+05\n",
       "bth_1.5         3.153e+04   7.98e+04      0.395      0.693   -1.25e+05    1.88e+05\n",
       "bth_1.75        3.821e+04   7.97e+04      0.479      0.632   -1.18e+05    1.94e+05\n",
       "bth_2.0         4.197e+04   7.97e+04      0.526      0.599   -1.14e+05    1.98e+05\n",
       "bth_2.25        1.483e+04   7.98e+04      0.186      0.853   -1.42e+05    1.71e+05\n",
       "bth_2.5        -1.909e+04   7.97e+04     -0.239      0.811   -1.75e+05    1.37e+05\n",
       "bth_2.75        3.899e+04   7.99e+04      0.488      0.626   -1.18e+05    1.96e+05\n",
       "bth_3.0         3.695e+04      8e+04      0.462      0.644    -1.2e+05    1.94e+05\n",
       "bth_3.25        5.884e+04   8.01e+04      0.735      0.462   -9.81e+04    2.16e+05\n",
       "bth_3.5         4.391e+04      8e+04      0.549      0.583   -1.13e+05    2.01e+05\n",
       "bth_3.75        6.834e+04    8.1e+04      0.844      0.399   -9.04e+04    2.27e+05\n",
       "bth_4.0         5.282e+04    8.1e+04      0.652      0.514   -1.06e+05    2.12e+05\n",
       "bth_4.25        3.476e+04   8.19e+04      0.424      0.671   -1.26e+05    1.95e+05\n",
       "bth_4.5         2.065e+04   8.15e+04      0.253      0.800   -1.39e+05     1.8e+05\n",
       "bth_4.75       -6987.9398   8.65e+04     -0.081      0.936   -1.77e+05    1.63e+05\n",
       "bth_5.0         -1.79e+04   8.88e+04     -0.202      0.840   -1.92e+05    1.56e+05\n",
       "bth_5.25        1.793e+04   9.29e+04      0.193      0.847   -1.64e+05       2e+05\n",
       "bth_5.5         -6.34e+04   1.05e+05     -0.606      0.545   -2.68e+05    1.42e+05\n",
       "bth_5.75       -4.789e+04   1.31e+05     -0.365      0.715   -3.05e+05    2.09e+05\n",
       "bth_6.0        -3.142e+04   1.03e+05     -0.305      0.760   -2.33e+05    1.71e+05\n",
       "bth_6.25       -1.708e-11   9.26e-11     -0.184      0.854   -1.99e-10    1.64e-10\n",
       "bth_6.5        -4.329e+04    1.6e+05     -0.271      0.787   -3.57e+05     2.7e+05\n",
       "bth_6.75        -1.29e+05   1.29e+05     -1.003      0.316   -3.81e+05    1.23e+05\n",
       "bth_7.5         3.842e-11   4.34e-11      0.886      0.376   -4.66e-11    1.23e-10\n",
       "bth_7.75        -5.36e-11   5.47e-11     -0.981      0.327   -1.61e-10    5.36e-11\n",
       "bth_8.0        -2.291e+05   1.38e+05     -1.665      0.096   -4.99e+05    4.07e+04\n",
       "grd_11         -4824.9311   1.02e+04     -0.473      0.636   -2.48e+04    1.52e+04\n",
       "grd_12         -4.825e+04   2.04e+04     -2.362      0.018   -8.83e+04   -8203.065\n",
       "grd_13           -4.4e+04   6.14e+04     -0.717      0.473   -1.64e+05    7.63e+04\n",
       "grd_3          -2.767e+05    1.4e+05     -1.983      0.047    -5.5e+05   -3242.874\n",
       "grd_4          -3.045e+05   3.72e+04     -8.176      0.000   -3.77e+05   -2.31e+05\n",
       "grd_5          -3.064e+05   1.34e+04    -22.907      0.000   -3.33e+05    -2.8e+05\n",
       "grd_6          -2.918e+05   8384.691    -34.804      0.000   -3.08e+05   -2.75e+05\n",
       "grd_7          -2.418e+05   7096.240    -34.075      0.000   -2.56e+05   -2.28e+05\n",
       "grd_8          -1.606e+05   6627.605    -24.231      0.000   -1.74e+05   -1.48e+05\n",
       "grd_9          -5.077e+04   6343.460     -8.003      0.000   -6.32e+04   -3.83e+04\n",
       "==============================================================================\n",
       "Omnibus:                      445.540   Durbin-Watson:                   2.003\n",
       "Prob(Omnibus):                  0.000   Jarque-Bera (JB):              488.844\n",
       "Skew:                           0.434   Prob(JB):                    7.06e-107\n",
       "Kurtosis:                       3.238   Cond. No.                     1.07e+16\n",
       "==============================================================================\n",
       "\n",
       "Notes:\n",
       "[1] Standard Errors assume that the covariance matrix of the errors is correctly specified.\n",
       "[2] The smallest eigenvalue is 1.2e-21. This might indicate that there are\n",
       "strong multicollinearity problems or that the design matrix is singular.\n",
       "\"\"\""
      ]
     },
     "execution_count": 68,
     "metadata": {},
     "output_type": "execute_result"
    }
   ],
   "source": [
    "sm_model2.summary()"
   ]
  },
  {
   "cell_type": "markdown",
   "id": "569f5537",
   "metadata": {},
   "source": [
    "<h5>skew and Kurtosis changed very little compared to the scaled data. </h5> "
   ]
  },
  {
   "cell_type": "code",
   "execution_count": 70,
   "id": "a928d3c1",
   "metadata": {},
   "outputs": [],
   "source": [
    "y1_predicted = lm1.predict(X1_test)\n",
    "residuals1 = y1_test - y1_predicted"
   ]
  },
  {
   "cell_type": "code",
   "execution_count": 71,
   "id": "53392bd4",
   "metadata": {},
   "outputs": [
    {
     "name": "stderr",
     "output_type": "stream",
     "text": [
      "C:\\Users\\61405\\AppData\\Local\\Temp\\ipykernel_28212\\1950983042.py:21: UserWarning: \n",
      "\n",
      "`distplot` is a deprecated function and will be removed in seaborn v0.14.0.\n",
      "\n",
      "Please adapt your code to use either `displot` (a figure-level function with\n",
      "similar flexibility) or `histplot` (an axes-level function for histograms).\n",
      "\n",
      "For a guide to updating your code to use the new functions, please see\n",
      "https://gist.github.com/mwaskom/de44147ed2974457ad6372750bbe5751\n",
      "\n",
      "  sns.distplot(residuals1, ax=axs[1][1])\n"
     ]
    },
    {
     "data": {
      "image/png": "[encoded data removed]",
      "text/plain": [
       "<Figure size 1000x1000 with 4 Axes>"
      ]
     },
     "metadata": {},
     "output_type": "display_data"
    }
   ],
   "source": [
    "fig, axs = plt.subplots(2,2, figsize=(10,10))\n",
    "plt.tight_layout()\n",
    "\n",
    "plt1 = axs[0][0].scatter(x=y1_test, y=y1_predicted)\n",
    "axs[0][0].set_title('Fitted vs Predicted')\n",
    "axs[0][0].set_xlabel('Price - test')\n",
    "axs[0][0].set_ylabel('Price - predicted')\n",
    "\n",
    "plt2 = axs[0][1].scatter(x=y1_test, y=residuals1)\n",
    "\n",
    "axs[0][1].set_title('Fitted vs Residuals')\n",
    "axs[0][1].set_xlabel('Price - test (fitted)')\n",
    "axs[0][1].set_ylabel('Residuals')\n",
    "\n",
    "axs[1][0].scatter(x=sorted(random.randn(len(residuals1))), \n",
    "                  y=sorted(residuals1['price']))\n",
    "axs[1][0].set_title('QQ plot of Residuals')\n",
    "axs[1][0].set_xlabel('Std. normal z scores')\n",
    "axs[1][0].set_ylabel('Residuals')\n",
    "\n",
    "sns.distplot(residuals1, ax=axs[1][1])\n",
    "axs[1][1].set_title('Histogram of residuals')\n",
    "plt.tight_layout()"
   ]
  },
  {
   "cell_type": "markdown",
   "id": "fa72eda8",
   "metadata": {},
   "source": [
    "<h5>this chart shows even more normality compared to the scaled data. More plots in line on the Q-Q plot</h5>"
   ]
  },
  {
   "cell_type": "code",
   "execution_count": 72,
   "id": "0eaee3c6",
   "metadata": {},
   "outputs": [],
   "source": [
    "from sklearn.linear_model import LinearRegression\n",
    "linreg = LinearRegression()\n",
    "linreg.fit(X1_train, y1_train)\n",
    "\n",
    "y_hat_train = linreg.predict(X1_train)\n",
    "y_hat_test = linreg.predict(X1_test)"
   ]
  },
  {
   "cell_type": "code",
   "execution_count": 73,
   "id": "029a84a1",
   "metadata": {},
   "outputs": [],
   "source": [
    "train_residuals = y_hat_train - y1_train\n",
    "test_residuals = y_hat_test - y1_test"
   ]
  },
  {
   "cell_type": "code",
   "execution_count": 74,
   "id": "09e8df47",
   "metadata": {},
   "outputs": [
    {
     "name": "stdout",
     "output_type": "stream",
     "text": [
      "Train Mean Squared Error: 18831195711.77367\n",
      "Test Mean Squared Error: 19570975182.845093\n"
     ]
    }
   ],
   "source": [
    "from sklearn.metrics import mean_squared_error\n",
    "\n",
    "train_mse = mean_squared_error(y1_train, y_hat_train)\n",
    "test_mse = mean_squared_error(y1_test, y_hat_test)\n",
    "print('Train Mean Squared Error:', train_mse)\n",
    "print('Test Mean Squared Error:', test_mse)"
   ]
  },
  {
   "cell_type": "code",
   "execution_count": 75,
   "id": "dc8f7fd0",
   "metadata": {},
   "outputs": [
    {
     "data": {
      "text/plain": [
       "0.9622001732586184"
      ]
     },
     "execution_count": 75,
     "metadata": {},
     "output_type": "execute_result"
    }
   ],
   "source": [
    "18831195711.77367/19570975182.845093"
   ]
  },
  {
   "cell_type": "markdown",
   "id": "141d2d10",
   "metadata": {},
   "source": [
    "<h5>model is slightly underfitting.</h5>"
   ]
  },
  {
   "cell_type": "markdown",
   "id": "ba858a0a",
   "metadata": {},
   "source": [
    "<h1>Price prediction with log transformed data<h1>"
   ]
  },
  {
   "cell_type": "code",
   "execution_count": 76,
   "id": "6b26f9ee",
   "metadata": {},
   "outputs": [
    {
     "data": {
      "text/plain": [
       "7127"
      ]
     },
     "execution_count": 76,
     "metadata": {},
     "output_type": "execute_result"
    }
   ],
   "source": [
    "len(y1_predicted)"
   ]
  },
  {
   "cell_type": "code",
   "execution_count": 77,
   "id": "e2f048ec",
   "metadata": {},
   "outputs": [
    {
     "data": {
      "text/plain": [
       "111447.66350129485"
      ]
     },
     "execution_count": 77,
     "metadata": {},
     "output_type": "execute_result"
    }
   ],
   "source": [
    "from sklearn import metrics\n",
    "metrics.mean_absolute_error(y1_test, y1_predicted)"
   ]
  },
  {
   "cell_type": "code",
   "execution_count": 78,
   "id": "5ccf1e9b",
   "metadata": {},
   "outputs": [
    {
     "data": {
      "text/plain": [
       "139896.30153383288"
      ]
     },
     "execution_count": 78,
     "metadata": {},
     "output_type": "execute_result"
    }
   ],
   "source": [
    "np.sqrt(metrics.mean_squared_error(y1_test, y1_predicted))"
   ]
  },
  {
   "cell_type": "code",
   "execution_count": 79,
   "id": "eb9a3be1",
   "metadata": {},
   "outputs": [],
   "source": [
    "X1_test['predicted_price'] = y1_predicted"
   ]
  },
  {
   "cell_type": "code",
   "execution_count": 80,
   "id": "8fc31798",
   "metadata": {
    "scrolled": true
   },
   "outputs": [
    {
     "data": {
      "text/html": [
       "<div>\n",
       "<style scoped>\n",
       "    .dataframe tbody tr th:only-of-type {\n",
       "        vertical-align: middle;\n",
       "    }\n",
       "\n",
       "    .dataframe tbody tr th {\n",
       "        vertical-align: top;\n",
       "    }\n",
       "\n",
       "    .dataframe thead th {\n",
       "        text-align: right;\n",
       "    }\n",
       "</style>\n",
       "<table border=\"1\" class=\"dataframe\">\n",
       "  <thead>\n",
       "    <tr style=\"text-align: right;\">\n",
       "      <th></th>\n",
       "      <th>sqft_living</th>\n",
       "      <th>sqft_living15</th>\n",
       "      <th>sqft_liv_log</th>\n",
       "      <th>sqft_liv15_log</th>\n",
       "      <th>bdr_10</th>\n",
       "      <th>bdr_11</th>\n",
       "      <th>bdr_2</th>\n",
       "      <th>bdr_3</th>\n",
       "      <th>bdr_4</th>\n",
       "      <th>bdr_5</th>\n",
       "      <th>...</th>\n",
       "      <th>grd_12</th>\n",
       "      <th>grd_13</th>\n",
       "      <th>grd_3</th>\n",
       "      <th>grd_4</th>\n",
       "      <th>grd_5</th>\n",
       "      <th>grd_6</th>\n",
       "      <th>grd_7</th>\n",
       "      <th>grd_8</th>\n",
       "      <th>grd_9</th>\n",
       "      <th>predicted_price</th>\n",
       "    </tr>\n",
       "  </thead>\n",
       "  <tbody>\n",
       "    <tr>\n",
       "      <th>3686</th>\n",
       "      <td>850</td>\n",
       "      <td>850</td>\n",
       "      <td>6.745236</td>\n",
       "      <td>6.745236</td>\n",
       "      <td>0</td>\n",
       "      <td>0</td>\n",
       "      <td>0</td>\n",
       "      <td>1</td>\n",
       "      <td>0</td>\n",
       "      <td>0</td>\n",
       "      <td>...</td>\n",
       "      <td>0</td>\n",
       "      <td>0</td>\n",
       "      <td>0</td>\n",
       "      <td>0</td>\n",
       "      <td>0</td>\n",
       "      <td>1</td>\n",
       "      <td>0</td>\n",
       "      <td>0</td>\n",
       "      <td>0</td>\n",
       "      <td>218399.638314</td>\n",
       "    </tr>\n",
       "    <tr>\n",
       "      <th>10247</th>\n",
       "      <td>1510</td>\n",
       "      <td>1510</td>\n",
       "      <td>7.319865</td>\n",
       "      <td>7.319865</td>\n",
       "      <td>0</td>\n",
       "      <td>0</td>\n",
       "      <td>0</td>\n",
       "      <td>1</td>\n",
       "      <td>0</td>\n",
       "      <td>0</td>\n",
       "      <td>...</td>\n",
       "      <td>0</td>\n",
       "      <td>0</td>\n",
       "      <td>0</td>\n",
       "      <td>0</td>\n",
       "      <td>0</td>\n",
       "      <td>1</td>\n",
       "      <td>0</td>\n",
       "      <td>0</td>\n",
       "      <td>0</td>\n",
       "      <td>356251.848991</td>\n",
       "    </tr>\n",
       "    <tr>\n",
       "      <th>4037</th>\n",
       "      <td>1790</td>\n",
       "      <td>2060</td>\n",
       "      <td>7.489971</td>\n",
       "      <td>7.630461</td>\n",
       "      <td>0</td>\n",
       "      <td>0</td>\n",
       "      <td>0</td>\n",
       "      <td>0</td>\n",
       "      <td>1</td>\n",
       "      <td>0</td>\n",
       "      <td>...</td>\n",
       "      <td>0</td>\n",
       "      <td>0</td>\n",
       "      <td>0</td>\n",
       "      <td>0</td>\n",
       "      <td>0</td>\n",
       "      <td>0</td>\n",
       "      <td>1</td>\n",
       "      <td>0</td>\n",
       "      <td>0</td>\n",
       "      <td>414015.269764</td>\n",
       "    </tr>\n",
       "    <tr>\n",
       "      <th>3437</th>\n",
       "      <td>1140</td>\n",
       "      <td>1500</td>\n",
       "      <td>7.038784</td>\n",
       "      <td>7.313220</td>\n",
       "      <td>0</td>\n",
       "      <td>0</td>\n",
       "      <td>1</td>\n",
       "      <td>0</td>\n",
       "      <td>0</td>\n",
       "      <td>0</td>\n",
       "      <td>...</td>\n",
       "      <td>0</td>\n",
       "      <td>0</td>\n",
       "      <td>0</td>\n",
       "      <td>0</td>\n",
       "      <td>0</td>\n",
       "      <td>0</td>\n",
       "      <td>1</td>\n",
       "      <td>0</td>\n",
       "      <td>0</td>\n",
       "      <td>387050.290064</td>\n",
       "    </tr>\n",
       "    <tr>\n",
       "      <th>19291</th>\n",
       "      <td>1500</td>\n",
       "      <td>1640</td>\n",
       "      <td>7.313220</td>\n",
       "      <td>7.402452</td>\n",
       "      <td>0</td>\n",
       "      <td>0</td>\n",
       "      <td>0</td>\n",
       "      <td>1</td>\n",
       "      <td>0</td>\n",
       "      <td>0</td>\n",
       "      <td>...</td>\n",
       "      <td>0</td>\n",
       "      <td>0</td>\n",
       "      <td>0</td>\n",
       "      <td>0</td>\n",
       "      <td>0</td>\n",
       "      <td>0</td>\n",
       "      <td>1</td>\n",
       "      <td>0</td>\n",
       "      <td>0</td>\n",
       "      <td>411341.300842</td>\n",
       "    </tr>\n",
       "  </tbody>\n",
       "</table>\n",
       "<p>5 rows × 53 columns</p>\n",
       "</div>"
      ],
      "text/plain": [
       "       sqft_living  sqft_living15  sqft_liv_log  sqft_liv15_log  bdr_10  \\\n",
       "3686           850            850      6.745236        6.745236       0   \n",
       "10247         1510           1510      7.319865        7.319865       0   \n",
       "4037          1790           2060      7.489971        7.630461       0   \n",
       "3437          1140           1500      7.038784        7.313220       0   \n",
       "19291         1500           1640      7.313220        7.402452       0   \n",
       "\n",
       "       bdr_11  bdr_2  bdr_3  bdr_4  bdr_5  ...  grd_12  grd_13  grd_3  grd_4  \\\n",
       "3686        0      0      1      0      0  ...       0       0      0      0   \n",
       "10247       0      0      1      0      0  ...       0       0      0      0   \n",
       "4037        0      0      0      1      0  ...       0       0      0      0   \n",
       "3437        0      1      0      0      0  ...       0       0      0      0   \n",
       "19291       0      0      1      0      0  ...       0       0      0      0   \n",
       "\n",
       "       grd_5  grd_6  grd_7  grd_8  grd_9  predicted_price  \n",
       "3686       0      1      0      0      0    218399.638314  \n",
       "10247      0      1      0      0      0    356251.848991  \n",
       "4037       0      0      1      0      0    414015.269764  \n",
       "3437       0      0      1      0      0    387050.290064  \n",
       "19291      0      0      1      0      0    411341.300842  \n",
       "\n",
       "[5 rows x 53 columns]"
      ]
     },
     "execution_count": 80,
     "metadata": {},
     "output_type": "execute_result"
    }
   ],
   "source": [
    "X1_test.head()"
   ]
  },
  {
   "cell_type": "markdown",
   "id": "e803dc9d",
   "metadata": {},
   "source": [
    "<h1>Price prediction with scaled to Std Dev normal distribution data<h1>"
   ]
  },
  {
   "cell_type": "code",
   "execution_count": 81,
   "id": "189f7e62",
   "metadata": {},
   "outputs": [
    {
     "data": {
      "text/html": [
       "<div>\n",
       "<style scoped>\n",
       "    .dataframe tbody tr th:only-of-type {\n",
       "        vertical-align: middle;\n",
       "    }\n",
       "\n",
       "    .dataframe tbody tr th {\n",
       "        vertical-align: top;\n",
       "    }\n",
       "\n",
       "    .dataframe thead th {\n",
       "        text-align: right;\n",
       "    }\n",
       "</style>\n",
       "<table border=\"1\" class=\"dataframe\">\n",
       "  <thead>\n",
       "    <tr style=\"text-align: right;\">\n",
       "      <th></th>\n",
       "      <th>bedrooms</th>\n",
       "      <th>bathrooms</th>\n",
       "      <th>sqft_living</th>\n",
       "      <th>grade</th>\n",
       "      <th>sqft_living15</th>\n",
       "      <th>price</th>\n",
       "    </tr>\n",
       "  </thead>\n",
       "  <tbody>\n",
       "    <tr>\n",
       "      <th>13952</th>\n",
       "      <td>-0.411272</td>\n",
       "      <td>0.499567</td>\n",
       "      <td>0.587797</td>\n",
       "      <td>-0.560817</td>\n",
       "      <td>-0.462118</td>\n",
       "      <td>-1.064736</td>\n",
       "    </tr>\n",
       "    <tr>\n",
       "      <th>15519</th>\n",
       "      <td>-0.411272</td>\n",
       "      <td>-0.475751</td>\n",
       "      <td>0.250143</td>\n",
       "      <td>0.291559</td>\n",
       "      <td>1.230779</td>\n",
       "      <td>0.138911</td>\n",
       "    </tr>\n",
       "    <tr>\n",
       "      <th>15811</th>\n",
       "      <td>0.694809</td>\n",
       "      <td>-0.475751</td>\n",
       "      <td>-0.141970</td>\n",
       "      <td>-0.560817</td>\n",
       "      <td>-0.564276</td>\n",
       "      <td>0.969427</td>\n",
       "    </tr>\n",
       "    <tr>\n",
       "      <th>8415</th>\n",
       "      <td>0.694809</td>\n",
       "      <td>0.824672</td>\n",
       "      <td>-0.479624</td>\n",
       "      <td>-0.560817</td>\n",
       "      <td>-1.221003</td>\n",
       "      <td>-0.860116</td>\n",
       "    </tr>\n",
       "    <tr>\n",
       "      <th>5573</th>\n",
       "      <td>-0.411272</td>\n",
       "      <td>0.174461</td>\n",
       "      <td>-0.457840</td>\n",
       "      <td>-0.560817</td>\n",
       "      <td>-0.447524</td>\n",
       "      <td>-0.234220</td>\n",
       "    </tr>\n",
       "  </tbody>\n",
       "</table>\n",
       "</div>"
      ],
      "text/plain": [
       "       bedrooms  bathrooms  sqft_living     grade  sqft_living15     price\n",
       "13952 -0.411272   0.499567     0.587797 -0.560817      -0.462118 -1.064736\n",
       "15519 -0.411272  -0.475751     0.250143  0.291559       1.230779  0.138911\n",
       "15811  0.694809  -0.475751    -0.141970 -0.560817      -0.564276  0.969427\n",
       "8415   0.694809   0.824672    -0.479624 -0.560817      -1.221003 -0.860116\n",
       "5573  -0.411272   0.174461    -0.457840 -0.560817      -0.447524 -0.234220"
      ]
     },
     "execution_count": 81,
     "metadata": {},
     "output_type": "execute_result"
    }
   ],
   "source": [
    "KC_fitted = Xscaled_test[Xscaled_test.columns[0:]]\n",
    "KC_fitted['price'] = yscaled_test\n",
    "KC_fitted.head()"
   ]
  },
  {
   "cell_type": "code",
   "execution_count": 82,
   "id": "fe4b11f5",
   "metadata": {},
   "outputs": [
    {
     "data": {
      "text/html": [
       "<div>\n",
       "<style scoped>\n",
       "    .dataframe tbody tr th:only-of-type {\n",
       "        vertical-align: middle;\n",
       "    }\n",
       "\n",
       "    .dataframe tbody tr th {\n",
       "        vertical-align: top;\n",
       "    }\n",
       "\n",
       "    .dataframe thead th {\n",
       "        text-align: right;\n",
       "    }\n",
       "</style>\n",
       "<table border=\"1\" class=\"dataframe\">\n",
       "  <thead>\n",
       "    <tr style=\"text-align: right;\">\n",
       "      <th></th>\n",
       "      <th>bedrooms</th>\n",
       "      <th>bathrooms</th>\n",
       "      <th>sqft_living</th>\n",
       "      <th>grade</th>\n",
       "      <th>sqft_living15</th>\n",
       "      <th>price</th>\n",
       "    </tr>\n",
       "  </thead>\n",
       "  <tbody>\n",
       "    <tr>\n",
       "      <th>0</th>\n",
       "      <td>413225.813</td>\n",
       "      <td>3.823</td>\n",
       "      <td>2.568</td>\n",
       "      <td>1565.456</td>\n",
       "      <td>7.116</td>\n",
       "      <td>1257.077</td>\n",
       "    </tr>\n",
       "    <tr>\n",
       "      <th>1</th>\n",
       "      <td>413225.813</td>\n",
       "      <td>2.942</td>\n",
       "      <td>2.308</td>\n",
       "      <td>2348.023</td>\n",
       "      <td>9.102</td>\n",
       "      <td>2081.835</td>\n",
       "    </tr>\n",
       "    <tr>\n",
       "      <th>2</th>\n",
       "      <td>642961.254</td>\n",
       "      <td>2.942</td>\n",
       "      <td>2.007</td>\n",
       "      <td>1565.456</td>\n",
       "      <td>6.996</td>\n",
       "      <td>2650.918</td>\n",
       "    </tr>\n",
       "    <tr>\n",
       "      <th>3</th>\n",
       "      <td>642961.254</td>\n",
       "      <td>4.117</td>\n",
       "      <td>1.747</td>\n",
       "      <td>1565.456</td>\n",
       "      <td>6.225</td>\n",
       "      <td>1397.286</td>\n",
       "    </tr>\n",
       "    <tr>\n",
       "      <th>4</th>\n",
       "      <td>413225.813</td>\n",
       "      <td>3.530</td>\n",
       "      <td>1.764</td>\n",
       "      <td>1565.456</td>\n",
       "      <td>7.133</td>\n",
       "      <td>1826.160</td>\n",
       "    </tr>\n",
       "  </tbody>\n",
       "</table>\n",
       "</div>"
      ],
      "text/plain": [
       "     bedrooms  bathrooms  sqft_living     grade  sqft_living15     price\n",
       "0  413225.813      3.823        2.568  1565.456          7.116  1257.077\n",
       "1  413225.813      2.942        2.308  2348.023          9.102  2081.835\n",
       "2  642961.254      2.942        2.007  1565.456          6.996  2650.918\n",
       "3  642961.254      4.117        1.747  1565.456          6.225  1397.286\n",
       "4  413225.813      3.530        1.764  1565.456          7.133  1826.160"
      ]
     },
     "execution_count": 82,
     "metadata": {},
     "output_type": "execute_result"
    }
   ],
   "source": [
    "KC_fitted_inv = s_scaler.inverse_transform(KC_fitted)\n",
    "KC_fitted_inv = pd.DataFrame(KC_fitted_inv, \n",
    "                                    columns=KC_fitted.columns)\n",
    "KC_fitted_inv.head().round(3)"
   ]
  },
  {
   "cell_type": "code",
   "execution_count": 83,
   "id": "e3d02ec7",
   "metadata": {},
   "outputs": [],
   "source": [
    "yinv_predicted = (yscaled_predicted * s_scaler.scale_[-1]) + s_scaler.mean_[-1]"
   ]
  },
  {
   "cell_type": "code",
   "execution_count": 84,
   "id": "8dc0124a",
   "metadata": {},
   "outputs": [
    {
     "data": {
      "text/plain": [
       "(7127, 1)"
      ]
     },
     "execution_count": 84,
     "metadata": {},
     "output_type": "execute_result"
    }
   ],
   "source": [
    "yinv_predicted.shape"
   ]
  },
  {
   "cell_type": "code",
   "execution_count": 85,
   "id": "dab95ca9",
   "metadata": {},
   "outputs": [
    {
     "data": {
      "text/html": [
       "<div>\n",
       "<style scoped>\n",
       "    .dataframe tbody tr th:only-of-type {\n",
       "        vertical-align: middle;\n",
       "    }\n",
       "\n",
       "    .dataframe tbody tr th {\n",
       "        vertical-align: top;\n",
       "    }\n",
       "\n",
       "    .dataframe thead th {\n",
       "        text-align: right;\n",
       "    }\n",
       "</style>\n",
       "<table border=\"1\" class=\"dataframe\">\n",
       "  <thead>\n",
       "    <tr style=\"text-align: right;\">\n",
       "      <th></th>\n",
       "      <th>bedrooms</th>\n",
       "      <th>bathrooms</th>\n",
       "      <th>sqft_living</th>\n",
       "      <th>grade</th>\n",
       "      <th>sqft_living15</th>\n",
       "      <th>price</th>\n",
       "      <th>Price predicted</th>\n",
       "    </tr>\n",
       "  </thead>\n",
       "  <tbody>\n",
       "    <tr>\n",
       "      <th>0</th>\n",
       "      <td>413225.813</td>\n",
       "      <td>3.823</td>\n",
       "      <td>2.568</td>\n",
       "      <td>1565.456</td>\n",
       "      <td>7.116</td>\n",
       "      <td>1257.077</td>\n",
       "      <td>1911.131</td>\n",
       "    </tr>\n",
       "    <tr>\n",
       "      <th>1</th>\n",
       "      <td>413225.813</td>\n",
       "      <td>2.942</td>\n",
       "      <td>2.308</td>\n",
       "      <td>2348.023</td>\n",
       "      <td>9.102</td>\n",
       "      <td>2081.835</td>\n",
       "      <td>2252.104</td>\n",
       "    </tr>\n",
       "    <tr>\n",
       "      <th>2</th>\n",
       "      <td>642961.254</td>\n",
       "      <td>2.942</td>\n",
       "      <td>2.007</td>\n",
       "      <td>1565.456</td>\n",
       "      <td>6.996</td>\n",
       "      <td>2650.918</td>\n",
       "      <td>1767.757</td>\n",
       "    </tr>\n",
       "    <tr>\n",
       "      <th>3</th>\n",
       "      <td>642961.254</td>\n",
       "      <td>4.117</td>\n",
       "      <td>1.747</td>\n",
       "      <td>1565.456</td>\n",
       "      <td>6.225</td>\n",
       "      <td>1397.286</td>\n",
       "      <td>1582.524</td>\n",
       "    </tr>\n",
       "    <tr>\n",
       "      <th>4</th>\n",
       "      <td>413225.813</td>\n",
       "      <td>3.530</td>\n",
       "      <td>1.764</td>\n",
       "      <td>1565.456</td>\n",
       "      <td>7.133</td>\n",
       "      <td>1826.160</td>\n",
       "      <td>1694.817</td>\n",
       "    </tr>\n",
       "  </tbody>\n",
       "</table>\n",
       "</div>"
      ],
      "text/plain": [
       "     bedrooms  bathrooms  sqft_living     grade  sqft_living15     price  \\\n",
       "0  413225.813      3.823        2.568  1565.456          7.116  1257.077   \n",
       "1  413225.813      2.942        2.308  2348.023          9.102  2081.835   \n",
       "2  642961.254      2.942        2.007  1565.456          6.996  2650.918   \n",
       "3  642961.254      4.117        1.747  1565.456          6.225  1397.286   \n",
       "4  413225.813      3.530        1.764  1565.456          7.133  1826.160   \n",
       "\n",
       "   Price predicted  \n",
       "0         1911.131  \n",
       "1         2252.104  \n",
       "2         1767.757  \n",
       "3         1582.524  \n",
       "4         1694.817  "
      ]
     },
     "execution_count": 85,
     "metadata": {},
     "output_type": "execute_result"
    }
   ],
   "source": [
    "KC_fitted_inv['Price predicted'] = yinv_predicted\n",
    "KC_fitted_inv.head().round(3)"
   ]
  },
  {
   "cell_type": "code",
   "execution_count": 86,
   "id": "51177d86",
   "metadata": {},
   "outputs": [
    {
     "data": {
      "text/plain": [
       "473.2402221409758"
      ]
     },
     "execution_count": 86,
     "metadata": {},
     "output_type": "execute_result"
    }
   ],
   "source": [
    "mse_scaled = metrics.mean_squared_error(KC_fitted_inv['price'], \n",
    "                           KC_fitted_inv['Price predicted'])\n",
    "np.sqrt(mse_scaled)"
   ]
  },
  {
   "cell_type": "code",
   "execution_count": 87,
   "id": "2e3352f1",
   "metadata": {},
   "outputs": [
    {
     "data": {
      "text/plain": [
       "379.56873510743054"
      ]
     },
     "execution_count": 87,
     "metadata": {},
     "output_type": "execute_result"
    }
   ],
   "source": [
    "mae_scaled = metrics.mean_absolute_error(KC_fitted_inv['price'], \n",
    "                           KC_fitted_inv['Price predicted'])\n",
    "mae_scaled"
   ]
  },
  {
   "cell_type": "code",
   "execution_count": 88,
   "id": "eb103b16",
   "metadata": {},
   "outputs": [
    {
     "data": {
      "text/plain": [
       "0.8033826638477801"
      ]
     },
     "execution_count": 88,
     "metadata": {},
     "output_type": "execute_result"
    }
   ],
   "source": [
    "380/473"
   ]
  },
  {
   "cell_type": "markdown",
   "id": "e1d58406",
   "metadata": {},
   "source": [
    "<h5>Scaled predicted model is underfitting but a better fit than the log transformed predicted model, which could be because both models are not quite complex enough to find patterns in the data</h5>"
   ]
  }
 ],
 "metadata": {
  "kernelspec": {
   "display_name": "Python (learn-env)",
   "language": "python",
   "name": "learn-env"
  },
  "language_info": {
   "codemirror_mode": {
    "name": "ipython",
    "version": 3
   },
   "file_extension": ".py",
   "mimetype": "text/x-python",
   "name": "python",
   "nbconvert_exporter": "python",
   "pygments_lexer": "ipython3",
   "version": "3.11.4"
  }
 },
 "nbformat": 4,
 "nbformat_minor": 5
}
